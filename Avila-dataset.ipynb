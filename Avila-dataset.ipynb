{
  "nbformat": 4,
  "nbformat_minor": 0,
  "metadata": {
    "colab": {
      "name": "Avila_dataset.ipynb",
      "provenance": [],
      "collapsed_sections": []
    },
    "kernelspec": {
      "name": "python3",
      "display_name": "Python 3"
    },
    "language_info": {
      "name": "python"
    }
  },
  "cells": [
    {
      "cell_type": "code",
      "execution_count": 1,
      "metadata": {
        "id": "LWffVcPuIceY"
      },
      "outputs": [],
      "source": [
        "import pandas as pd\n",
        "import numpy as np\n",
        "import matplotlib.pyplot as plt\n",
        "from sklearn.metrics import confusion_matrix, accuracy_score\n",
        "import seaborn as sns\n"
      ]
    },
    {
      "cell_type": "code",
      "source": [
        "df=pd.read_csv('/content/avila-tr.txt',sep=',',header=None)"
      ],
      "metadata": {
        "id": "n9jCeJb7I-3A"
      },
      "execution_count": 2,
      "outputs": []
    },
    {
      "cell_type": "code",
      "source": [
        "df.columns =['A', 'B', 'C', 'D','E','F','G','H','I','J','target']"
      ],
      "metadata": {
        "id": "Y30izv-mJsW4"
      },
      "execution_count": 3,
      "outputs": []
    },
    {
      "cell_type": "code",
      "source": [
        "df.head()"
      ],
      "metadata": {
        "colab": {
          "base_uri": "https://localhost:8080/",
          "height": 206
        },
        "id": "_WVF3ZvuJMZH",
        "outputId": "ca165fc8-e034-4eaa-897e-2aa11e9210e1"
      },
      "execution_count": 4,
      "outputs": [
        {
          "output_type": "execute_result",
          "data": {
            "text/html": [
              "\n",
              "  <div id=\"df-7c330f43-b2ae-4254-9beb-c81e9b10a729\">\n",
              "    <div class=\"colab-df-container\">\n",
              "      <div>\n",
              "<style scoped>\n",
              "    .dataframe tbody tr th:only-of-type {\n",
              "        vertical-align: middle;\n",
              "    }\n",
              "\n",
              "    .dataframe tbody tr th {\n",
              "        vertical-align: top;\n",
              "    }\n",
              "\n",
              "    .dataframe thead th {\n",
              "        text-align: right;\n",
              "    }\n",
              "</style>\n",
              "<table border=\"1\" class=\"dataframe\">\n",
              "  <thead>\n",
              "    <tr style=\"text-align: right;\">\n",
              "      <th></th>\n",
              "      <th>A</th>\n",
              "      <th>B</th>\n",
              "      <th>C</th>\n",
              "      <th>D</th>\n",
              "      <th>E</th>\n",
              "      <th>F</th>\n",
              "      <th>G</th>\n",
              "      <th>H</th>\n",
              "      <th>I</th>\n",
              "      <th>J</th>\n",
              "      <th>target</th>\n",
              "    </tr>\n",
              "  </thead>\n",
              "  <tbody>\n",
              "    <tr>\n",
              "      <th>0</th>\n",
              "      <td>0.266074</td>\n",
              "      <td>-0.165620</td>\n",
              "      <td>0.320980</td>\n",
              "      <td>0.483299</td>\n",
              "      <td>0.172340</td>\n",
              "      <td>0.273364</td>\n",
              "      <td>0.371178</td>\n",
              "      <td>0.929823</td>\n",
              "      <td>0.251173</td>\n",
              "      <td>0.159345</td>\n",
              "      <td>A</td>\n",
              "    </tr>\n",
              "    <tr>\n",
              "      <th>1</th>\n",
              "      <td>0.130292</td>\n",
              "      <td>0.870736</td>\n",
              "      <td>-3.210528</td>\n",
              "      <td>0.062493</td>\n",
              "      <td>0.261718</td>\n",
              "      <td>1.436060</td>\n",
              "      <td>1.465940</td>\n",
              "      <td>0.636203</td>\n",
              "      <td>0.282354</td>\n",
              "      <td>0.515587</td>\n",
              "      <td>A</td>\n",
              "    </tr>\n",
              "    <tr>\n",
              "      <th>2</th>\n",
              "      <td>-0.116585</td>\n",
              "      <td>0.069915</td>\n",
              "      <td>0.068476</td>\n",
              "      <td>-0.783147</td>\n",
              "      <td>0.261718</td>\n",
              "      <td>0.439463</td>\n",
              "      <td>-0.081827</td>\n",
              "      <td>-0.888236</td>\n",
              "      <td>-0.123005</td>\n",
              "      <td>0.582939</td>\n",
              "      <td>A</td>\n",
              "    </tr>\n",
              "    <tr>\n",
              "      <th>3</th>\n",
              "      <td>0.031541</td>\n",
              "      <td>0.297600</td>\n",
              "      <td>-3.210528</td>\n",
              "      <td>-0.583590</td>\n",
              "      <td>-0.721442</td>\n",
              "      <td>-0.307984</td>\n",
              "      <td>0.710932</td>\n",
              "      <td>1.051693</td>\n",
              "      <td>0.594169</td>\n",
              "      <td>-0.533994</td>\n",
              "      <td>A</td>\n",
              "    </tr>\n",
              "    <tr>\n",
              "      <th>4</th>\n",
              "      <td>0.229043</td>\n",
              "      <td>0.807926</td>\n",
              "      <td>-0.052442</td>\n",
              "      <td>0.082634</td>\n",
              "      <td>0.261718</td>\n",
              "      <td>0.148790</td>\n",
              "      <td>0.635431</td>\n",
              "      <td>0.051062</td>\n",
              "      <td>0.032902</td>\n",
              "      <td>-0.086652</td>\n",
              "      <td>F</td>\n",
              "    </tr>\n",
              "  </tbody>\n",
              "</table>\n",
              "</div>\n",
              "      <button class=\"colab-df-convert\" onclick=\"convertToInteractive('df-7c330f43-b2ae-4254-9beb-c81e9b10a729')\"\n",
              "              title=\"Convert this dataframe to an interactive table.\"\n",
              "              style=\"display:none;\">\n",
              "        \n",
              "  <svg xmlns=\"http://www.w3.org/2000/svg\" height=\"24px\"viewBox=\"0 0 24 24\"\n",
              "       width=\"24px\">\n",
              "    <path d=\"M0 0h24v24H0V0z\" fill=\"none\"/>\n",
              "    <path d=\"M18.56 5.44l.94 2.06.94-2.06 2.06-.94-2.06-.94-.94-2.06-.94 2.06-2.06.94zm-11 1L8.5 8.5l.94-2.06 2.06-.94-2.06-.94L8.5 2.5l-.94 2.06-2.06.94zm10 10l.94 2.06.94-2.06 2.06-.94-2.06-.94-.94-2.06-.94 2.06-2.06.94z\"/><path d=\"M17.41 7.96l-1.37-1.37c-.4-.4-.92-.59-1.43-.59-.52 0-1.04.2-1.43.59L10.3 9.45l-7.72 7.72c-.78.78-.78 2.05 0 2.83L4 21.41c.39.39.9.59 1.41.59.51 0 1.02-.2 1.41-.59l7.78-7.78 2.81-2.81c.8-.78.8-2.07 0-2.86zM5.41 20L4 18.59l7.72-7.72 1.47 1.35L5.41 20z\"/>\n",
              "  </svg>\n",
              "      </button>\n",
              "      \n",
              "  <style>\n",
              "    .colab-df-container {\n",
              "      display:flex;\n",
              "      flex-wrap:wrap;\n",
              "      gap: 12px;\n",
              "    }\n",
              "\n",
              "    .colab-df-convert {\n",
              "      background-color: #E8F0FE;\n",
              "      border: none;\n",
              "      border-radius: 50%;\n",
              "      cursor: pointer;\n",
              "      display: none;\n",
              "      fill: #1967D2;\n",
              "      height: 32px;\n",
              "      padding: 0 0 0 0;\n",
              "      width: 32px;\n",
              "    }\n",
              "\n",
              "    .colab-df-convert:hover {\n",
              "      background-color: #E2EBFA;\n",
              "      box-shadow: 0px 1px 2px rgba(60, 64, 67, 0.3), 0px 1px 3px 1px rgba(60, 64, 67, 0.15);\n",
              "      fill: #174EA6;\n",
              "    }\n",
              "\n",
              "    [theme=dark] .colab-df-convert {\n",
              "      background-color: #3B4455;\n",
              "      fill: #D2E3FC;\n",
              "    }\n",
              "\n",
              "    [theme=dark] .colab-df-convert:hover {\n",
              "      background-color: #434B5C;\n",
              "      box-shadow: 0px 1px 3px 1px rgba(0, 0, 0, 0.15);\n",
              "      filter: drop-shadow(0px 1px 2px rgba(0, 0, 0, 0.3));\n",
              "      fill: #FFFFFF;\n",
              "    }\n",
              "  </style>\n",
              "\n",
              "      <script>\n",
              "        const buttonEl =\n",
              "          document.querySelector('#df-7c330f43-b2ae-4254-9beb-c81e9b10a729 button.colab-df-convert');\n",
              "        buttonEl.style.display =\n",
              "          google.colab.kernel.accessAllowed ? 'block' : 'none';\n",
              "\n",
              "        async function convertToInteractive(key) {\n",
              "          const element = document.querySelector('#df-7c330f43-b2ae-4254-9beb-c81e9b10a729');\n",
              "          const dataTable =\n",
              "            await google.colab.kernel.invokeFunction('convertToInteractive',\n",
              "                                                     [key], {});\n",
              "          if (!dataTable) return;\n",
              "\n",
              "          const docLinkHtml = 'Like what you see? Visit the ' +\n",
              "            '<a target=\"_blank\" href=https://colab.research.google.com/notebooks/data_table.ipynb>data table notebook</a>'\n",
              "            + ' to learn more about interactive tables.';\n",
              "          element.innerHTML = '';\n",
              "          dataTable['output_type'] = 'display_data';\n",
              "          await google.colab.output.renderOutput(dataTable, element);\n",
              "          const docLink = document.createElement('div');\n",
              "          docLink.innerHTML = docLinkHtml;\n",
              "          element.appendChild(docLink);\n",
              "        }\n",
              "      </script>\n",
              "    </div>\n",
              "  </div>\n",
              "  "
            ],
            "text/plain": [
              "          A         B         C         D  ...         H         I         J  target\n",
              "0  0.266074 -0.165620  0.320980  0.483299  ...  0.929823  0.251173  0.159345       A\n",
              "1  0.130292  0.870736 -3.210528  0.062493  ...  0.636203  0.282354  0.515587       A\n",
              "2 -0.116585  0.069915  0.068476 -0.783147  ... -0.888236 -0.123005  0.582939       A\n",
              "3  0.031541  0.297600 -3.210528 -0.583590  ...  1.051693  0.594169 -0.533994       A\n",
              "4  0.229043  0.807926 -0.052442  0.082634  ...  0.051062  0.032902 -0.086652       F\n",
              "\n",
              "[5 rows x 11 columns]"
            ]
          },
          "metadata": {},
          "execution_count": 4
        }
      ]
    },
    {
      "cell_type": "code",
      "source": [
        "df.shape"
      ],
      "metadata": {
        "colab": {
          "base_uri": "https://localhost:8080/"
        },
        "id": "-skzSHyuJNo_",
        "outputId": "c02eeb5d-9129-4519-9b49-14b4901fe4c8"
      },
      "execution_count": 5,
      "outputs": [
        {
          "output_type": "execute_result",
          "data": {
            "text/plain": [
              "(10430, 11)"
            ]
          },
          "metadata": {},
          "execution_count": 5
        }
      ]
    },
    {
      "cell_type": "code",
      "source": [
        "df.dtypes"
      ],
      "metadata": {
        "colab": {
          "base_uri": "https://localhost:8080/"
        },
        "id": "zmLZLK6RJWpw",
        "outputId": "0232292e-b155-410e-a9ad-e58d074e8c35"
      },
      "execution_count": 6,
      "outputs": [
        {
          "output_type": "execute_result",
          "data": {
            "text/plain": [
              "A         float64\n",
              "B         float64\n",
              "C         float64\n",
              "D         float64\n",
              "E         float64\n",
              "F         float64\n",
              "G         float64\n",
              "H         float64\n",
              "I         float64\n",
              "J         float64\n",
              "target     object\n",
              "dtype: object"
            ]
          },
          "metadata": {},
          "execution_count": 6
        }
      ]
    },
    {
      "cell_type": "code",
      "source": [
        "df.isna().sum()"
      ],
      "metadata": {
        "colab": {
          "base_uri": "https://localhost:8080/"
        },
        "id": "cA-HWjBgJZA0",
        "outputId": "8d2057c9-cbe6-4fab-e625-2af15a86375d"
      },
      "execution_count": 7,
      "outputs": [
        {
          "output_type": "execute_result",
          "data": {
            "text/plain": [
              "A         0\n",
              "B         0\n",
              "C         0\n",
              "D         0\n",
              "E         0\n",
              "F         0\n",
              "G         0\n",
              "H         0\n",
              "I         0\n",
              "J         0\n",
              "target    0\n",
              "dtype: int64"
            ]
          },
          "metadata": {},
          "execution_count": 7
        }
      ]
    },
    {
      "cell_type": "code",
      "source": [
        "df['target'].value_counts().plot(kind=\"bar\")"
      ],
      "metadata": {
        "colab": {
          "base_uri": "https://localhost:8080/",
          "height": 282
        },
        "id": "qWn3c1V4JbeU",
        "outputId": "f9f29ed9-fa85-4fbd-b51d-300e32b1e7e1"
      },
      "execution_count": 8,
      "outputs": [
        {
          "output_type": "execute_result",
          "data": {
            "text/plain": [
              "<matplotlib.axes._subplots.AxesSubplot at 0x7fec4c360990>"
            ]
          },
          "metadata": {},
          "execution_count": 8
        },
        {
          "output_type": "display_data",
          "data": {
            "image/png": "[encoded data removed]",
            "text/plain": [
              "<Figure size 432x288 with 1 Axes>"
            ]
          },
          "metadata": {
            "needs_background": "light"
          }
        }
      ]
    },
    {
      "cell_type": "code",
      "source": [
        "val = df.target.value_counts()"
      ],
      "metadata": {
        "id": "iXLT8tASKnIb"
      },
      "execution_count": 9,
      "outputs": []
    },
    {
      "cell_type": "code",
      "source": [
        "corr = df.corr()\n",
        "corr.style.background_gradient(cmap='coolwarm').set_precision(2)"
      ],
      "metadata": {
        "colab": {
          "base_uri": "https://localhost:8080/",
          "height": 363
        },
        "id": "xp5mRIoPJfc1",
        "outputId": "0b8776f2-28ed-4d9b-cad0-bafd1a4c3777"
      },
      "execution_count": 10,
      "outputs": [
        {
          "output_type": "execute_result",
          "data": {
            "text/html": [
              "<style  type=\"text/css\" >\n",
              "#T_37dd2ac4_6c74_11ec_afb4_0242ac1c0002row0_col0,#T_37dd2ac4_6c74_11ec_afb4_0242ac1c0002row1_col1,#T_37dd2ac4_6c74_11ec_afb4_0242ac1c0002row2_col2,#T_37dd2ac4_6c74_11ec_afb4_0242ac1c0002row3_col3,#T_37dd2ac4_6c74_11ec_afb4_0242ac1c0002row4_col4,#T_37dd2ac4_6c74_11ec_afb4_0242ac1c0002row5_col5,#T_37dd2ac4_6c74_11ec_afb4_0242ac1c0002row6_col6,#T_37dd2ac4_6c74_11ec_afb4_0242ac1c0002row7_col7,#T_37dd2ac4_6c74_11ec_afb4_0242ac1c0002row8_col8,#T_37dd2ac4_6c74_11ec_afb4_0242ac1c0002row9_col9{\n",
              "            background-color:  #b40426;\n",
              "            color:  #f1f1f1;\n",
              "        }#T_37dd2ac4_6c74_11ec_afb4_0242ac1c0002row0_col1,#T_37dd2ac4_6c74_11ec_afb4_0242ac1c0002row4_col6,#T_37dd2ac4_6c74_11ec_afb4_0242ac1c0002row7_col9{\n",
              "            background-color:  #4358cb;\n",
              "            color:  #f1f1f1;\n",
              "        }#T_37dd2ac4_6c74_11ec_afb4_0242ac1c0002row0_col2,#T_37dd2ac4_6c74_11ec_afb4_0242ac1c0002row2_col4,#T_37dd2ac4_6c74_11ec_afb4_0242ac1c0002row7_col2{\n",
              "            background-color:  #516ddb;\n",
              "            color:  #000000;\n",
              "        }#T_37dd2ac4_6c74_11ec_afb4_0242ac1c0002row0_col3,#T_37dd2ac4_6c74_11ec_afb4_0242ac1c0002row0_col6,#T_37dd2ac4_6c74_11ec_afb4_0242ac1c0002row0_col8,#T_37dd2ac4_6c74_11ec_afb4_0242ac1c0002row1_col4,#T_37dd2ac4_6c74_11ec_afb4_0242ac1c0002row2_col9,#T_37dd2ac4_6c74_11ec_afb4_0242ac1c0002row3_col0,#T_37dd2ac4_6c74_11ec_afb4_0242ac1c0002row4_col1,#T_37dd2ac4_6c74_11ec_afb4_0242ac1c0002row4_col7,#T_37dd2ac4_6c74_11ec_afb4_0242ac1c0002row7_col4,#T_37dd2ac4_6c74_11ec_afb4_0242ac1c0002row7_col5,#T_37dd2ac4_6c74_11ec_afb4_0242ac1c0002row7_col6,#T_37dd2ac4_6c74_11ec_afb4_0242ac1c0002row9_col2{\n",
              "            background-color:  #3b4cc0;\n",
              "            color:  #f1f1f1;\n",
              "        }#T_37dd2ac4_6c74_11ec_afb4_0242ac1c0002row0_col4{\n",
              "            background-color:  #dadce0;\n",
              "            color:  #000000;\n",
              "        }#T_37dd2ac4_6c74_11ec_afb4_0242ac1c0002row0_col5{\n",
              "            background-color:  #3e51c5;\n",
              "            color:  #f1f1f1;\n",
              "        }#T_37dd2ac4_6c74_11ec_afb4_0242ac1c0002row0_col7,#T_37dd2ac4_6c74_11ec_afb4_0242ac1c0002row1_col0{\n",
              "            background-color:  #4257c9;\n",
              "            color:  #f1f1f1;\n",
              "        }#T_37dd2ac4_6c74_11ec_afb4_0242ac1c0002row0_col9,#T_37dd2ac4_6c74_11ec_afb4_0242ac1c0002row9_col1{\n",
              "            background-color:  #465ecf;\n",
              "            color:  #f1f1f1;\n",
              "        }#T_37dd2ac4_6c74_11ec_afb4_0242ac1c0002row1_col2{\n",
              "            background-color:  #ccd9ed;\n",
              "            color:  #000000;\n",
              "        }#T_37dd2ac4_6c74_11ec_afb4_0242ac1c0002row1_col3,#T_37dd2ac4_6c74_11ec_afb4_0242ac1c0002row3_col1{\n",
              "            background-color:  #4e68d8;\n",
              "            color:  #000000;\n",
              "        }#T_37dd2ac4_6c74_11ec_afb4_0242ac1c0002row1_col5,#T_37dd2ac4_6c74_11ec_afb4_0242ac1c0002row7_col8{\n",
              "            background-color:  #d1dae9;\n",
              "            color:  #000000;\n",
              "        }#T_37dd2ac4_6c74_11ec_afb4_0242ac1c0002row1_col6{\n",
              "            background-color:  #efcebd;\n",
              "            color:  #000000;\n",
              "        }#T_37dd2ac4_6c74_11ec_afb4_0242ac1c0002row1_col7,#T_37dd2ac4_6c74_11ec_afb4_0242ac1c0002row5_col4,#T_37dd2ac4_6c74_11ec_afb4_0242ac1c0002row6_col3,#T_37dd2ac4_6c74_11ec_afb4_0242ac1c0002row7_col1{\n",
              "            background-color:  #5a78e4;\n",
              "            color:  #000000;\n",
              "        }#T_37dd2ac4_6c74_11ec_afb4_0242ac1c0002row1_col8{\n",
              "            background-color:  #a1c0ff;\n",
              "            color:  #000000;\n",
              "        }#T_37dd2ac4_6c74_11ec_afb4_0242ac1c0002row1_col9,#T_37dd2ac4_6c74_11ec_afb4_0242ac1c0002row7_col0{\n",
              "            background-color:  #4055c8;\n",
              "            color:  #f1f1f1;\n",
              "        }#T_37dd2ac4_6c74_11ec_afb4_0242ac1c0002row2_col0,#T_37dd2ac4_6c74_11ec_afb4_0242ac1c0002row6_col4{\n",
              "            background-color:  #5673e0;\n",
              "            color:  #000000;\n",
              "        }#T_37dd2ac4_6c74_11ec_afb4_0242ac1c0002row2_col1{\n",
              "            background-color:  #cfdaea;\n",
              "            color:  #000000;\n",
              "        }#T_37dd2ac4_6c74_11ec_afb4_0242ac1c0002row2_col3{\n",
              "            background-color:  #7a9df8;\n",
              "            color:  #000000;\n",
              "        }#T_37dd2ac4_6c74_11ec_afb4_0242ac1c0002row2_col5,#T_37dd2ac4_6c74_11ec_afb4_0242ac1c0002row3_col2{\n",
              "            background-color:  #7597f6;\n",
              "            color:  #000000;\n",
              "        }#T_37dd2ac4_6c74_11ec_afb4_0242ac1c0002row2_col6{\n",
              "            background-color:  #9bbcff;\n",
              "            color:  #000000;\n",
              "        }#T_37dd2ac4_6c74_11ec_afb4_0242ac1c0002row2_col7{\n",
              "            background-color:  #5977e3;\n",
              "            color:  #000000;\n",
              "        }#T_37dd2ac4_6c74_11ec_afb4_0242ac1c0002row2_col8{\n",
              "            background-color:  #6788ee;\n",
              "            color:  #000000;\n",
              "        }#T_37dd2ac4_6c74_11ec_afb4_0242ac1c0002row3_col4{\n",
              "            background-color:  #6c8ff1;\n",
              "            color:  #000000;\n",
              "        }#T_37dd2ac4_6c74_11ec_afb4_0242ac1c0002row3_col5{\n",
              "            background-color:  #9ebeff;\n",
              "            color:  #000000;\n",
              "        }#T_37dd2ac4_6c74_11ec_afb4_0242ac1c0002row3_col6{\n",
              "            background-color:  #485fd1;\n",
              "            color:  #f1f1f1;\n",
              "        }#T_37dd2ac4_6c74_11ec_afb4_0242ac1c0002row3_col7{\n",
              "            background-color:  #bbd1f8;\n",
              "            color:  #000000;\n",
              "        }#T_37dd2ac4_6c74_11ec_afb4_0242ac1c0002row3_col8{\n",
              "            background-color:  #88abfd;\n",
              "            color:  #000000;\n",
              "        }#T_37dd2ac4_6c74_11ec_afb4_0242ac1c0002row3_col9{\n",
              "            background-color:  #b1cbfc;\n",
              "            color:  #000000;\n",
              "        }#T_37dd2ac4_6c74_11ec_afb4_0242ac1c0002row4_col0{\n",
              "            background-color:  #d9dce1;\n",
              "            color:  #000000;\n",
              "        }#T_37dd2ac4_6c74_11ec_afb4_0242ac1c0002row4_col2,#T_37dd2ac4_6c74_11ec_afb4_0242ac1c0002row9_col7{\n",
              "            background-color:  #4a63d3;\n",
              "            color:  #f1f1f1;\n",
              "        }#T_37dd2ac4_6c74_11ec_afb4_0242ac1c0002row4_col3{\n",
              "            background-color:  #6a8bef;\n",
              "            color:  #000000;\n",
              "        }#T_37dd2ac4_6c74_11ec_afb4_0242ac1c0002row4_col5{\n",
              "            background-color:  #5875e1;\n",
              "            color:  #000000;\n",
              "        }#T_37dd2ac4_6c74_11ec_afb4_0242ac1c0002row4_col8,#T_37dd2ac4_6c74_11ec_afb4_0242ac1c0002row8_col2{\n",
              "            background-color:  #85a8fc;\n",
              "            color:  #000000;\n",
              "        }#T_37dd2ac4_6c74_11ec_afb4_0242ac1c0002row4_col9{\n",
              "            background-color:  #779af7;\n",
              "            color:  #000000;\n",
              "        }#T_37dd2ac4_6c74_11ec_afb4_0242ac1c0002row5_col0{\n",
              "            background-color:  #3f53c6;\n",
              "            color:  #f1f1f1;\n",
              "        }#T_37dd2ac4_6c74_11ec_afb4_0242ac1c0002row5_col1{\n",
              "            background-color:  #d2dbe8;\n",
              "            color:  #000000;\n",
              "        }#T_37dd2ac4_6c74_11ec_afb4_0242ac1c0002row5_col2{\n",
              "            background-color:  #7093f3;\n",
              "            color:  #000000;\n",
              "        }#T_37dd2ac4_6c74_11ec_afb4_0242ac1c0002row5_col3{\n",
              "            background-color:  #9fbfff;\n",
              "            color:  #000000;\n",
              "        }#T_37dd2ac4_6c74_11ec_afb4_0242ac1c0002row5_col6{\n",
              "            background-color:  #d3dbe7;\n",
              "            color:  #000000;\n",
              "        }#T_37dd2ac4_6c74_11ec_afb4_0242ac1c0002row5_col7{\n",
              "            background-color:  #3d50c3;\n",
              "            color:  #f1f1f1;\n",
              "        }#T_37dd2ac4_6c74_11ec_afb4_0242ac1c0002row5_col8{\n",
              "            background-color:  #6f92f3;\n",
              "            color:  #000000;\n",
              "        }#T_37dd2ac4_6c74_11ec_afb4_0242ac1c0002row5_col9{\n",
              "            background-color:  #f29274;\n",
              "            color:  #000000;\n",
              "        }#T_37dd2ac4_6c74_11ec_afb4_0242ac1c0002row6_col0,#T_37dd2ac4_6c74_11ec_afb4_0242ac1c0002row9_col0{\n",
              "            background-color:  #4c66d6;\n",
              "            color:  #000000;\n",
              "        }#T_37dd2ac4_6c74_11ec_afb4_0242ac1c0002row6_col1{\n",
              "            background-color:  #f2c9b4;\n",
              "            color:  #000000;\n",
              "        }#T_37dd2ac4_6c74_11ec_afb4_0242ac1c0002row6_col2{\n",
              "            background-color:  #a5c3fe;\n",
              "            color:  #000000;\n",
              "        }#T_37dd2ac4_6c74_11ec_afb4_0242ac1c0002row6_col5{\n",
              "            background-color:  #dbdcde;\n",
              "            color:  #000000;\n",
              "        }#T_37dd2ac4_6c74_11ec_afb4_0242ac1c0002row6_col7{\n",
              "            background-color:  #4f69d9;\n",
              "            color:  #000000;\n",
              "        }#T_37dd2ac4_6c74_11ec_afb4_0242ac1c0002row6_col8{\n",
              "            background-color:  #84a7fc;\n",
              "            color:  #000000;\n",
              "        }#T_37dd2ac4_6c74_11ec_afb4_0242ac1c0002row6_col9{\n",
              "            background-color:  #9dbdff;\n",
              "            color:  #000000;\n",
              "        }#T_37dd2ac4_6c74_11ec_afb4_0242ac1c0002row7_col3{\n",
              "            background-color:  #bad0f8;\n",
              "            color:  #000000;\n",
              "        }#T_37dd2ac4_6c74_11ec_afb4_0242ac1c0002row8_col0{\n",
              "            background-color:  #5e7de7;\n",
              "            color:  #000000;\n",
              "        }#T_37dd2ac4_6c74_11ec_afb4_0242ac1c0002row8_col1{\n",
              "            background-color:  #bcd2f7;\n",
              "            color:  #000000;\n",
              "        }#T_37dd2ac4_6c74_11ec_afb4_0242ac1c0002row8_col3{\n",
              "            background-color:  #a7c5fe;\n",
              "            color:  #000000;\n",
              "        }#T_37dd2ac4_6c74_11ec_afb4_0242ac1c0002row8_col4{\n",
              "            background-color:  #a6c4fe;\n",
              "            color:  #000000;\n",
              "        }#T_37dd2ac4_6c74_11ec_afb4_0242ac1c0002row8_col5{\n",
              "            background-color:  #90b2fe;\n",
              "            color:  #000000;\n",
              "        }#T_37dd2ac4_6c74_11ec_afb4_0242ac1c0002row8_col6{\n",
              "            background-color:  #94b6ff;\n",
              "            color:  #000000;\n",
              "        }#T_37dd2ac4_6c74_11ec_afb4_0242ac1c0002row8_col7{\n",
              "            background-color:  #e2dad5;\n",
              "            color:  #000000;\n",
              "        }#T_37dd2ac4_6c74_11ec_afb4_0242ac1c0002row8_col9{\n",
              "            background-color:  #82a6fb;\n",
              "            color:  #000000;\n",
              "        }#T_37dd2ac4_6c74_11ec_afb4_0242ac1c0002row9_col3{\n",
              "            background-color:  #b5cdfa;\n",
              "            color:  #000000;\n",
              "        }#T_37dd2ac4_6c74_11ec_afb4_0242ac1c0002row9_col4{\n",
              "            background-color:  #7ea1fa;\n",
              "            color:  #000000;\n",
              "        }#T_37dd2ac4_6c74_11ec_afb4_0242ac1c0002row9_col5{\n",
              "            background-color:  #f29072;\n",
              "            color:  #000000;\n",
              "        }#T_37dd2ac4_6c74_11ec_afb4_0242ac1c0002row9_col6{\n",
              "            background-color:  #92b4fe;\n",
              "            color:  #000000;\n",
              "        }#T_37dd2ac4_6c74_11ec_afb4_0242ac1c0002row9_col8{\n",
              "            background-color:  #6485ec;\n",
              "            color:  #000000;\n",
              "        }</style><table id=\"T_37dd2ac4_6c74_11ec_afb4_0242ac1c0002\" class=\"dataframe\"><thead>    <tr>        <th class=\"blank level0\" ></th>        <th class=\"col_heading level0 col0\" >A</th>        <th class=\"col_heading level0 col1\" >B</th>        <th class=\"col_heading level0 col2\" >C</th>        <th class=\"col_heading level0 col3\" >D</th>        <th class=\"col_heading level0 col4\" >E</th>        <th class=\"col_heading level0 col5\" >F</th>        <th class=\"col_heading level0 col6\" >G</th>        <th class=\"col_heading level0 col7\" >H</th>        <th class=\"col_heading level0 col8\" >I</th>        <th class=\"col_heading level0 col9\" >J</th>    </tr></thead><tbody>\n",
              "                <tr>\n",
              "                        <th id=\"T_37dd2ac4_6c74_11ec_afb4_0242ac1c0002level0_row0\" class=\"row_heading level0 row0\" >A</th>\n",
              "                        <td id=\"T_37dd2ac4_6c74_11ec_afb4_0242ac1c0002row0_col0\" class=\"data row0 col0\" >1.00</td>\n",
              "                        <td id=\"T_37dd2ac4_6c74_11ec_afb4_0242ac1c0002row0_col1\" class=\"data row0 col1\" >-0.04</td>\n",
              "                        <td id=\"T_37dd2ac4_6c74_11ec_afb4_0242ac1c0002row0_col2\" class=\"data row0 col2\" >0.03</td>\n",
              "                        <td id=\"T_37dd2ac4_6c74_11ec_afb4_0242ac1c0002row0_col3\" class=\"data row0 col3\" >-0.07</td>\n",
              "                        <td id=\"T_37dd2ac4_6c74_11ec_afb4_0242ac1c0002row0_col4\" class=\"data row0 col4\" >0.45</td>\n",
              "                        <td id=\"T_37dd2ac4_6c74_11ec_afb4_0242ac1c0002row0_col5\" class=\"data row0 col5\" >-0.04</td>\n",
              "                        <td id=\"T_37dd2ac4_6c74_11ec_afb4_0242ac1c0002row0_col6\" class=\"data row0 col6\" >-0.00</td>\n",
              "                        <td id=\"T_37dd2ac4_6c74_11ec_afb4_0242ac1c0002row0_col7\" class=\"data row0 col7\" >-0.04</td>\n",
              "                        <td id=\"T_37dd2ac4_6c74_11ec_afb4_0242ac1c0002row0_col8\" class=\"data row0 col8\" >0.06</td>\n",
              "                        <td id=\"T_37dd2ac4_6c74_11ec_afb4_0242ac1c0002row0_col9\" class=\"data row0 col9\" >-0.00</td>\n",
              "            </tr>\n",
              "            <tr>\n",
              "                        <th id=\"T_37dd2ac4_6c74_11ec_afb4_0242ac1c0002level0_row1\" class=\"row_heading level0 row1\" >B</th>\n",
              "                        <td id=\"T_37dd2ac4_6c74_11ec_afb4_0242ac1c0002row1_col0\" class=\"data row1 col0\" >-0.04</td>\n",
              "                        <td id=\"T_37dd2ac4_6c74_11ec_afb4_0242ac1c0002row1_col1\" class=\"data row1 col1\" >1.00</td>\n",
              "                        <td id=\"T_37dd2ac4_6c74_11ec_afb4_0242ac1c0002row1_col2\" class=\"data row1 col2\" >0.41</td>\n",
              "                        <td id=\"T_37dd2ac4_6c74_11ec_afb4_0242ac1c0002row1_col3\" class=\"data row1 col3\" >0.00</td>\n",
              "                        <td id=\"T_37dd2ac4_6c74_11ec_afb4_0242ac1c0002row1_col4\" class=\"data row1 col4\" >-0.07</td>\n",
              "                        <td id=\"T_37dd2ac4_6c74_11ec_afb4_0242ac1c0002row1_col5\" class=\"data row1 col5\" >0.42</td>\n",
              "                        <td id=\"T_37dd2ac4_6c74_11ec_afb4_0242ac1c0002row1_col6\" class=\"data row1 col6\" >0.58</td>\n",
              "                        <td id=\"T_37dd2ac4_6c74_11ec_afb4_0242ac1c0002row1_col7\" class=\"data row1 col7\" >0.04</td>\n",
              "                        <td id=\"T_37dd2ac4_6c74_11ec_afb4_0242ac1c0002row1_col8\" class=\"data row1 col8\" >0.35</td>\n",
              "                        <td id=\"T_37dd2ac4_6c74_11ec_afb4_0242ac1c0002row1_col9\" class=\"data row1 col9\" >-0.02</td>\n",
              "            </tr>\n",
              "            <tr>\n",
              "                        <th id=\"T_37dd2ac4_6c74_11ec_afb4_0242ac1c0002level0_row2\" class=\"row_heading level0 row2\" >C</th>\n",
              "                        <td id=\"T_37dd2ac4_6c74_11ec_afb4_0242ac1c0002row2_col0\" class=\"data row2 col0\" >0.03</td>\n",
              "                        <td id=\"T_37dd2ac4_6c74_11ec_afb4_0242ac1c0002row2_col1\" class=\"data row2 col1\" >0.41</td>\n",
              "                        <td id=\"T_37dd2ac4_6c74_11ec_afb4_0242ac1c0002row2_col2\" class=\"data row2 col2\" >1.00</td>\n",
              "                        <td id=\"T_37dd2ac4_6c74_11ec_afb4_0242ac1c0002row2_col3\" class=\"data row2 col3\" >0.14</td>\n",
              "                        <td id=\"T_37dd2ac4_6c74_11ec_afb4_0242ac1c0002row2_col4\" class=\"data row2 col4\" >0.01</td>\n",
              "                        <td id=\"T_37dd2ac4_6c74_11ec_afb4_0242ac1c0002row2_col5\" class=\"data row2 col5\" >0.13</td>\n",
              "                        <td id=\"T_37dd2ac4_6c74_11ec_afb4_0242ac1c0002row2_col6\" class=\"data row2 col6\" >0.29</td>\n",
              "                        <td id=\"T_37dd2ac4_6c74_11ec_afb4_0242ac1c0002row2_col7\" class=\"data row2 col7\" >0.03</td>\n",
              "                        <td id=\"T_37dd2ac4_6c74_11ec_afb4_0242ac1c0002row2_col8\" class=\"data row2 col8\" >0.19</td>\n",
              "                        <td id=\"T_37dd2ac4_6c74_11ec_afb4_0242ac1c0002row2_col9\" class=\"data row2 col9\" >-0.05</td>\n",
              "            </tr>\n",
              "            <tr>\n",
              "                        <th id=\"T_37dd2ac4_6c74_11ec_afb4_0242ac1c0002level0_row3\" class=\"row_heading level0 row3\" >D</th>\n",
              "                        <td id=\"T_37dd2ac4_6c74_11ec_afb4_0242ac1c0002row3_col0\" class=\"data row3 col0\" >-0.07</td>\n",
              "                        <td id=\"T_37dd2ac4_6c74_11ec_afb4_0242ac1c0002row3_col1\" class=\"data row3 col1\" >0.00</td>\n",
              "                        <td id=\"T_37dd2ac4_6c74_11ec_afb4_0242ac1c0002row3_col2\" class=\"data row3 col2\" >0.14</td>\n",
              "                        <td id=\"T_37dd2ac4_6c74_11ec_afb4_0242ac1c0002row3_col3\" class=\"data row3 col3\" >1.00</td>\n",
              "                        <td id=\"T_37dd2ac4_6c74_11ec_afb4_0242ac1c0002row3_col4\" class=\"data row3 col4\" >0.10</td>\n",
              "                        <td id=\"T_37dd2ac4_6c74_11ec_afb4_0242ac1c0002row3_col5\" class=\"data row3 col5\" >0.26</td>\n",
              "                        <td id=\"T_37dd2ac4_6c74_11ec_afb4_0242ac1c0002row3_col6\" class=\"data row3 col6\" >0.04</td>\n",
              "                        <td id=\"T_37dd2ac4_6c74_11ec_afb4_0242ac1c0002row3_col7\" class=\"data row3 col7\" >0.34</td>\n",
              "                        <td id=\"T_37dd2ac4_6c74_11ec_afb4_0242ac1c0002row3_col8\" class=\"data row3 col8\" >0.28</td>\n",
              "                        <td id=\"T_37dd2ac4_6c74_11ec_afb4_0242ac1c0002row3_col9\" class=\"data row3 col9\" >0.32</td>\n",
              "            </tr>\n",
              "            <tr>\n",
              "                        <th id=\"T_37dd2ac4_6c74_11ec_afb4_0242ac1c0002level0_row4\" class=\"row_heading level0 row4\" >E</th>\n",
              "                        <td id=\"T_37dd2ac4_6c74_11ec_afb4_0242ac1c0002row4_col0\" class=\"data row4 col0\" >0.45</td>\n",
              "                        <td id=\"T_37dd2ac4_6c74_11ec_afb4_0242ac1c0002row4_col1\" class=\"data row4 col1\" >-0.07</td>\n",
              "                        <td id=\"T_37dd2ac4_6c74_11ec_afb4_0242ac1c0002row4_col2\" class=\"data row4 col2\" >0.01</td>\n",
              "                        <td id=\"T_37dd2ac4_6c74_11ec_afb4_0242ac1c0002row4_col3\" class=\"data row4 col3\" >0.10</td>\n",
              "                        <td id=\"T_37dd2ac4_6c74_11ec_afb4_0242ac1c0002row4_col4\" class=\"data row4 col4\" >1.00</td>\n",
              "                        <td id=\"T_37dd2ac4_6c74_11ec_afb4_0242ac1c0002row4_col5\" class=\"data row4 col5\" >0.04</td>\n",
              "                        <td id=\"T_37dd2ac4_6c74_11ec_afb4_0242ac1c0002row4_col6\" class=\"data row4 col6\" >0.03</td>\n",
              "                        <td id=\"T_37dd2ac4_6c74_11ec_afb4_0242ac1c0002row4_col7\" class=\"data row4 col7\" >-0.07</td>\n",
              "                        <td id=\"T_37dd2ac4_6c74_11ec_afb4_0242ac1c0002row4_col8\" class=\"data row4 col8\" >0.27</td>\n",
              "                        <td id=\"T_37dd2ac4_6c74_11ec_afb4_0242ac1c0002row4_col9\" class=\"data row4 col9\" >0.15</td>\n",
              "            </tr>\n",
              "            <tr>\n",
              "                        <th id=\"T_37dd2ac4_6c74_11ec_afb4_0242ac1c0002level0_row5\" class=\"row_heading level0 row5\" >F</th>\n",
              "                        <td id=\"T_37dd2ac4_6c74_11ec_afb4_0242ac1c0002row5_col0\" class=\"data row5 col0\" >-0.04</td>\n",
              "                        <td id=\"T_37dd2ac4_6c74_11ec_afb4_0242ac1c0002row5_col1\" class=\"data row5 col1\" >0.42</td>\n",
              "                        <td id=\"T_37dd2ac4_6c74_11ec_afb4_0242ac1c0002row5_col2\" class=\"data row5 col2\" >0.13</td>\n",
              "                        <td id=\"T_37dd2ac4_6c74_11ec_afb4_0242ac1c0002row5_col3\" class=\"data row5 col3\" >0.26</td>\n",
              "                        <td id=\"T_37dd2ac4_6c74_11ec_afb4_0242ac1c0002row5_col4\" class=\"data row5 col4\" >0.04</td>\n",
              "                        <td id=\"T_37dd2ac4_6c74_11ec_afb4_0242ac1c0002row5_col5\" class=\"data row5 col5\" >1.00</td>\n",
              "                        <td id=\"T_37dd2ac4_6c74_11ec_afb4_0242ac1c0002row5_col6\" class=\"data row5 col6\" >0.46</td>\n",
              "                        <td id=\"T_37dd2ac4_6c74_11ec_afb4_0242ac1c0002row5_col7\" class=\"data row5 col7\" >-0.06</td>\n",
              "                        <td id=\"T_37dd2ac4_6c74_11ec_afb4_0242ac1c0002row5_col8\" class=\"data row5 col8\" >0.21</td>\n",
              "                        <td id=\"T_37dd2ac4_6c74_11ec_afb4_0242ac1c0002row5_col9\" class=\"data row5 col9\" >0.76</td>\n",
              "            </tr>\n",
              "            <tr>\n",
              "                        <th id=\"T_37dd2ac4_6c74_11ec_afb4_0242ac1c0002level0_row6\" class=\"row_heading level0 row6\" >G</th>\n",
              "                        <td id=\"T_37dd2ac4_6c74_11ec_afb4_0242ac1c0002row6_col0\" class=\"data row6 col0\" >-0.00</td>\n",
              "                        <td id=\"T_37dd2ac4_6c74_11ec_afb4_0242ac1c0002row6_col1\" class=\"data row6 col1\" >0.58</td>\n",
              "                        <td id=\"T_37dd2ac4_6c74_11ec_afb4_0242ac1c0002row6_col2\" class=\"data row6 col2\" >0.29</td>\n",
              "                        <td id=\"T_37dd2ac4_6c74_11ec_afb4_0242ac1c0002row6_col3\" class=\"data row6 col3\" >0.04</td>\n",
              "                        <td id=\"T_37dd2ac4_6c74_11ec_afb4_0242ac1c0002row6_col4\" class=\"data row6 col4\" >0.03</td>\n",
              "                        <td id=\"T_37dd2ac4_6c74_11ec_afb4_0242ac1c0002row6_col5\" class=\"data row6 col5\" >0.46</td>\n",
              "                        <td id=\"T_37dd2ac4_6c74_11ec_afb4_0242ac1c0002row6_col6\" class=\"data row6 col6\" >1.00</td>\n",
              "                        <td id=\"T_37dd2ac4_6c74_11ec_afb4_0242ac1c0002row6_col7\" class=\"data row6 col7\" >0.00</td>\n",
              "                        <td id=\"T_37dd2ac4_6c74_11ec_afb4_0242ac1c0002row6_col8\" class=\"data row6 col8\" >0.27</td>\n",
              "                        <td id=\"T_37dd2ac4_6c74_11ec_afb4_0242ac1c0002row6_col9\" class=\"data row6 col9\" >0.26</td>\n",
              "            </tr>\n",
              "            <tr>\n",
              "                        <th id=\"T_37dd2ac4_6c74_11ec_afb4_0242ac1c0002level0_row7\" class=\"row_heading level0 row7\" >H</th>\n",
              "                        <td id=\"T_37dd2ac4_6c74_11ec_afb4_0242ac1c0002row7_col0\" class=\"data row7 col0\" >-0.04</td>\n",
              "                        <td id=\"T_37dd2ac4_6c74_11ec_afb4_0242ac1c0002row7_col1\" class=\"data row7 col1\" >0.04</td>\n",
              "                        <td id=\"T_37dd2ac4_6c74_11ec_afb4_0242ac1c0002row7_col2\" class=\"data row7 col2\" >0.03</td>\n",
              "                        <td id=\"T_37dd2ac4_6c74_11ec_afb4_0242ac1c0002row7_col3\" class=\"data row7 col3\" >0.34</td>\n",
              "                        <td id=\"T_37dd2ac4_6c74_11ec_afb4_0242ac1c0002row7_col4\" class=\"data row7 col4\" >-0.07</td>\n",
              "                        <td id=\"T_37dd2ac4_6c74_11ec_afb4_0242ac1c0002row7_col5\" class=\"data row7 col5\" >-0.06</td>\n",
              "                        <td id=\"T_37dd2ac4_6c74_11ec_afb4_0242ac1c0002row7_col6\" class=\"data row7 col6\" >0.00</td>\n",
              "                        <td id=\"T_37dd2ac4_6c74_11ec_afb4_0242ac1c0002row7_col7\" class=\"data row7 col7\" >1.00</td>\n",
              "                        <td id=\"T_37dd2ac4_6c74_11ec_afb4_0242ac1c0002row7_col8\" class=\"data row7 col8\" >0.49</td>\n",
              "                        <td id=\"T_37dd2ac4_6c74_11ec_afb4_0242ac1c0002row7_col9\" class=\"data row7 col9\" >-0.02</td>\n",
              "            </tr>\n",
              "            <tr>\n",
              "                        <th id=\"T_37dd2ac4_6c74_11ec_afb4_0242ac1c0002level0_row8\" class=\"row_heading level0 row8\" >I</th>\n",
              "                        <td id=\"T_37dd2ac4_6c74_11ec_afb4_0242ac1c0002row8_col0\" class=\"data row8 col0\" >0.06</td>\n",
              "                        <td id=\"T_37dd2ac4_6c74_11ec_afb4_0242ac1c0002row8_col1\" class=\"data row8 col1\" >0.35</td>\n",
              "                        <td id=\"T_37dd2ac4_6c74_11ec_afb4_0242ac1c0002row8_col2\" class=\"data row8 col2\" >0.19</td>\n",
              "                        <td id=\"T_37dd2ac4_6c74_11ec_afb4_0242ac1c0002row8_col3\" class=\"data row8 col3\" >0.28</td>\n",
              "                        <td id=\"T_37dd2ac4_6c74_11ec_afb4_0242ac1c0002row8_col4\" class=\"data row8 col4\" >0.27</td>\n",
              "                        <td id=\"T_37dd2ac4_6c74_11ec_afb4_0242ac1c0002row8_col5\" class=\"data row8 col5\" >0.21</td>\n",
              "                        <td id=\"T_37dd2ac4_6c74_11ec_afb4_0242ac1c0002row8_col6\" class=\"data row8 col6\" >0.27</td>\n",
              "                        <td id=\"T_37dd2ac4_6c74_11ec_afb4_0242ac1c0002row8_col7\" class=\"data row8 col7\" >0.49</td>\n",
              "                        <td id=\"T_37dd2ac4_6c74_11ec_afb4_0242ac1c0002row8_col8\" class=\"data row8 col8\" >1.00</td>\n",
              "                        <td id=\"T_37dd2ac4_6c74_11ec_afb4_0242ac1c0002row8_col9\" class=\"data row8 col9\" >0.19</td>\n",
              "            </tr>\n",
              "            <tr>\n",
              "                        <th id=\"T_37dd2ac4_6c74_11ec_afb4_0242ac1c0002level0_row9\" class=\"row_heading level0 row9\" >J</th>\n",
              "                        <td id=\"T_37dd2ac4_6c74_11ec_afb4_0242ac1c0002row9_col0\" class=\"data row9 col0\" >-0.00</td>\n",
              "                        <td id=\"T_37dd2ac4_6c74_11ec_afb4_0242ac1c0002row9_col1\" class=\"data row9 col1\" >-0.02</td>\n",
              "                        <td id=\"T_37dd2ac4_6c74_11ec_afb4_0242ac1c0002row9_col2\" class=\"data row9 col2\" >-0.05</td>\n",
              "                        <td id=\"T_37dd2ac4_6c74_11ec_afb4_0242ac1c0002row9_col3\" class=\"data row9 col3\" >0.32</td>\n",
              "                        <td id=\"T_37dd2ac4_6c74_11ec_afb4_0242ac1c0002row9_col4\" class=\"data row9 col4\" >0.15</td>\n",
              "                        <td id=\"T_37dd2ac4_6c74_11ec_afb4_0242ac1c0002row9_col5\" class=\"data row9 col5\" >0.76</td>\n",
              "                        <td id=\"T_37dd2ac4_6c74_11ec_afb4_0242ac1c0002row9_col6\" class=\"data row9 col6\" >0.26</td>\n",
              "                        <td id=\"T_37dd2ac4_6c74_11ec_afb4_0242ac1c0002row9_col7\" class=\"data row9 col7\" >-0.02</td>\n",
              "                        <td id=\"T_37dd2ac4_6c74_11ec_afb4_0242ac1c0002row9_col8\" class=\"data row9 col8\" >0.19</td>\n",
              "                        <td id=\"T_37dd2ac4_6c74_11ec_afb4_0242ac1c0002row9_col9\" class=\"data row9 col9\" >1.00</td>\n",
              "            </tr>\n",
              "    </tbody></table>"
            ],
            "text/plain": [
              "<pandas.io.formats.style.Styler at 0x7fec4c38e050>"
            ]
          },
          "metadata": {},
          "execution_count": 10
        }
      ]
    },
    {
      "cell_type": "code",
      "source": [
        "df.hist(bins=50, figsize=(20,15))\n",
        "plt.show();"
      ],
      "metadata": {
        "colab": {
          "base_uri": "https://localhost:8080/",
          "height": 843
        },
        "id": "5USNvU2AKEdc",
        "outputId": "bdf68088-c20d-481f-91a6-6574adc6392a"
      },
      "execution_count": 11,
      "outputs": [
        {
          "output_type": "display_data",
          "data": {
            "image/png": "[encoded data removed]",
            "text/plain": [
              "<Figure size 1440x1080 with 12 Axes>"
            ]
          },
          "metadata": {
            "needs_background": "light"
          }
        }
      ]
    },
    {
      "cell_type": "code",
      "source": [
        "for col_name in df.columns:\n",
        "    if(df[col_name].dtype == 'object'):\n",
        "        df[col_name]= df[col_name].astype('category')\n",
        "        df[col_name] = df[col_name].cat.codes"
      ],
      "metadata": {
        "id": "o4RkZevNKXyf"
      },
      "execution_count": 12,
      "outputs": []
    },
    {
      "cell_type": "code",
      "source": [
        "fig, ax = plt.subplots(figsize=(16, 6))\n",
        "sns.boxplot(x=\"variable\", y=\"value\", data=pd.melt(df),ax=ax)\n",
        "plt.show()"
      ],
      "metadata": {
        "colab": {
          "base_uri": "https://localhost:8080/",
          "height": 388
        },
        "id": "badf_t1NKHnW",
        "outputId": "30c8a554-7c6a-4f02-f70b-45f220f8d735"
      },
      "execution_count": 13,
      "outputs": [
        {
          "output_type": "display_data",
          "data": {
            "image/png": "[encoded data removed]",
            "text/plain": [
              "<Figure size 1152x432 with 1 Axes>"
            ]
          },
          "metadata": {
            "needs_background": "light"
          }
        }
      ]
    },
    {
      "cell_type": "code",
      "source": [
        "standard_deviations = 3\n",
        "df[df.apply(lambda x: np.abs(x - x.mean()) / x.std() < standard_deviations)\n",
        "   .all(axis=1)]"
      ],
      "metadata": {
        "colab": {
          "base_uri": "https://localhost:8080/",
          "height": 423
        },
        "id": "N1fktj9ZKPI1",
        "outputId": "93d89d7b-df60-42b9-cd00-a15f9518c470"
      },
      "execution_count": 14,
      "outputs": [
        {
          "output_type": "execute_result",
          "data": {
            "text/html": [
              "\n",
              "  <div id=\"df-b5fffad5-f4a3-4e67-8666-b3376b224c71\">\n",
              "    <div class=\"colab-df-container\">\n",
              "      <div>\n",
              "<style scoped>\n",
              "    .dataframe tbody tr th:only-of-type {\n",
              "        vertical-align: middle;\n",
              "    }\n",
              "\n",
              "    .dataframe tbody tr th {\n",
              "        vertical-align: top;\n",
              "    }\n",
              "\n",
              "    .dataframe thead th {\n",
              "        text-align: right;\n",
              "    }\n",
              "</style>\n",
              "<table border=\"1\" class=\"dataframe\">\n",
              "  <thead>\n",
              "    <tr style=\"text-align: right;\">\n",
              "      <th></th>\n",
              "      <th>A</th>\n",
              "      <th>B</th>\n",
              "      <th>C</th>\n",
              "      <th>D</th>\n",
              "      <th>E</th>\n",
              "      <th>F</th>\n",
              "      <th>G</th>\n",
              "      <th>H</th>\n",
              "      <th>I</th>\n",
              "      <th>J</th>\n",
              "      <th>target</th>\n",
              "    </tr>\n",
              "  </thead>\n",
              "  <tbody>\n",
              "    <tr>\n",
              "      <th>0</th>\n",
              "      <td>0.266074</td>\n",
              "      <td>-0.165620</td>\n",
              "      <td>0.320980</td>\n",
              "      <td>0.483299</td>\n",
              "      <td>0.172340</td>\n",
              "      <td>0.273364</td>\n",
              "      <td>0.371178</td>\n",
              "      <td>0.929823</td>\n",
              "      <td>0.251173</td>\n",
              "      <td>0.159345</td>\n",
              "      <td>0</td>\n",
              "    </tr>\n",
              "    <tr>\n",
              "      <th>1</th>\n",
              "      <td>0.130292</td>\n",
              "      <td>0.870736</td>\n",
              "      <td>-3.210528</td>\n",
              "      <td>0.062493</td>\n",
              "      <td>0.261718</td>\n",
              "      <td>1.436060</td>\n",
              "      <td>1.465940</td>\n",
              "      <td>0.636203</td>\n",
              "      <td>0.282354</td>\n",
              "      <td>0.515587</td>\n",
              "      <td>0</td>\n",
              "    </tr>\n",
              "    <tr>\n",
              "      <th>2</th>\n",
              "      <td>-0.116585</td>\n",
              "      <td>0.069915</td>\n",
              "      <td>0.068476</td>\n",
              "      <td>-0.783147</td>\n",
              "      <td>0.261718</td>\n",
              "      <td>0.439463</td>\n",
              "      <td>-0.081827</td>\n",
              "      <td>-0.888236</td>\n",
              "      <td>-0.123005</td>\n",
              "      <td>0.582939</td>\n",
              "      <td>0</td>\n",
              "    </tr>\n",
              "    <tr>\n",
              "      <th>3</th>\n",
              "      <td>0.031541</td>\n",
              "      <td>0.297600</td>\n",
              "      <td>-3.210528</td>\n",
              "      <td>-0.583590</td>\n",
              "      <td>-0.721442</td>\n",
              "      <td>-0.307984</td>\n",
              "      <td>0.710932</td>\n",
              "      <td>1.051693</td>\n",
              "      <td>0.594169</td>\n",
              "      <td>-0.533994</td>\n",
              "      <td>0</td>\n",
              "    </tr>\n",
              "    <tr>\n",
              "      <th>4</th>\n",
              "      <td>0.229043</td>\n",
              "      <td>0.807926</td>\n",
              "      <td>-0.052442</td>\n",
              "      <td>0.082634</td>\n",
              "      <td>0.261718</td>\n",
              "      <td>0.148790</td>\n",
              "      <td>0.635431</td>\n",
              "      <td>0.051062</td>\n",
              "      <td>0.032902</td>\n",
              "      <td>-0.086652</td>\n",
              "      <td>5</td>\n",
              "    </tr>\n",
              "    <tr>\n",
              "      <th>...</th>\n",
              "      <td>...</td>\n",
              "      <td>...</td>\n",
              "      <td>...</td>\n",
              "      <td>...</td>\n",
              "      <td>...</td>\n",
              "      <td>...</td>\n",
              "      <td>...</td>\n",
              "      <td>...</td>\n",
              "      <td>...</td>\n",
              "      <td>...</td>\n",
              "      <td>...</td>\n",
              "    </tr>\n",
              "    <tr>\n",
              "      <th>10425</th>\n",
              "      <td>0.080916</td>\n",
              "      <td>0.588093</td>\n",
              "      <td>0.015130</td>\n",
              "      <td>0.002250</td>\n",
              "      <td>0.261718</td>\n",
              "      <td>-0.557133</td>\n",
              "      <td>0.371178</td>\n",
              "      <td>0.932346</td>\n",
              "      <td>0.282354</td>\n",
              "      <td>-0.580141</td>\n",
              "      <td>5</td>\n",
              "    </tr>\n",
              "    <tr>\n",
              "      <th>10426</th>\n",
              "      <td>0.253730</td>\n",
              "      <td>-0.338346</td>\n",
              "      <td>0.352988</td>\n",
              "      <td>-1.154243</td>\n",
              "      <td>0.172340</td>\n",
              "      <td>-0.557133</td>\n",
              "      <td>0.257927</td>\n",
              "      <td>0.348428</td>\n",
              "      <td>0.032902</td>\n",
              "      <td>-0.527134</td>\n",
              "      <td>5</td>\n",
              "    </tr>\n",
              "    <tr>\n",
              "      <th>10427</th>\n",
              "      <td>0.229043</td>\n",
              "      <td>-0.000745</td>\n",
              "      <td>0.171611</td>\n",
              "      <td>-0.002793</td>\n",
              "      <td>0.261718</td>\n",
              "      <td>0.688613</td>\n",
              "      <td>0.295677</td>\n",
              "      <td>-1.088486</td>\n",
              "      <td>-0.590727</td>\n",
              "      <td>0.580142</td>\n",
              "      <td>0</td>\n",
              "    </tr>\n",
              "    <tr>\n",
              "      <th>10428</th>\n",
              "      <td>-0.301743</td>\n",
              "      <td>0.352558</td>\n",
              "      <td>0.288973</td>\n",
              "      <td>1.638181</td>\n",
              "      <td>0.261718</td>\n",
              "      <td>0.688613</td>\n",
              "      <td>0.069175</td>\n",
              "      <td>0.502761</td>\n",
              "      <td>0.625350</td>\n",
              "      <td>0.718969</td>\n",
              "      <td>4</td>\n",
              "    </tr>\n",
              "    <tr>\n",
              "      <th>10429</th>\n",
              "      <td>-0.104241</td>\n",
              "      <td>-1.037102</td>\n",
              "      <td>0.388552</td>\n",
              "      <td>-1.099311</td>\n",
              "      <td>0.172340</td>\n",
              "      <td>-0.307984</td>\n",
              "      <td>0.786433</td>\n",
              "      <td>-1.337547</td>\n",
              "      <td>0.999528</td>\n",
              "      <td>-0.551063</td>\n",
              "      <td>10</td>\n",
              "    </tr>\n",
              "  </tbody>\n",
              "</table>\n",
              "<p>9687 rows × 11 columns</p>\n",
              "</div>\n",
              "      <button class=\"colab-df-convert\" onclick=\"convertToInteractive('df-b5fffad5-f4a3-4e67-8666-b3376b224c71')\"\n",
              "              title=\"Convert this dataframe to an interactive table.\"\n",
              "              style=\"display:none;\">\n",
              "        \n",
              "  <svg xmlns=\"http://www.w3.org/2000/svg\" height=\"24px\"viewBox=\"0 0 24 24\"\n",
              "       width=\"24px\">\n",
              "    <path d=\"M0 0h24v24H0V0z\" fill=\"none\"/>\n",
              "    <path d=\"M18.56 5.44l.94 2.06.94-2.06 2.06-.94-2.06-.94-.94-2.06-.94 2.06-2.06.94zm-11 1L8.5 8.5l.94-2.06 2.06-.94-2.06-.94L8.5 2.5l-.94 2.06-2.06.94zm10 10l.94 2.06.94-2.06 2.06-.94-2.06-.94-.94-2.06-.94 2.06-2.06.94z\"/><path d=\"M17.41 7.96l-1.37-1.37c-.4-.4-.92-.59-1.43-.59-.52 0-1.04.2-1.43.59L10.3 9.45l-7.72 7.72c-.78.78-.78 2.05 0 2.83L4 21.41c.39.39.9.59 1.41.59.51 0 1.02-.2 1.41-.59l7.78-7.78 2.81-2.81c.8-.78.8-2.07 0-2.86zM5.41 20L4 18.59l7.72-7.72 1.47 1.35L5.41 20z\"/>\n",
              "  </svg>\n",
              "      </button>\n",
              "      \n",
              "  <style>\n",
              "    .colab-df-container {\n",
              "      display:flex;\n",
              "      flex-wrap:wrap;\n",
              "      gap: 12px;\n",
              "    }\n",
              "\n",
              "    .colab-df-convert {\n",
              "      background-color: #E8F0FE;\n",
              "      border: none;\n",
              "      border-radius: 50%;\n",
              "      cursor: pointer;\n",
              "      display: none;\n",
              "      fill: #1967D2;\n",
              "      height: 32px;\n",
              "      padding: 0 0 0 0;\n",
              "      width: 32px;\n",
              "    }\n",
              "\n",
              "    .colab-df-convert:hover {\n",
              "      background-color: #E2EBFA;\n",
              "      box-shadow: 0px 1px 2px rgba(60, 64, 67, 0.3), 0px 1px 3px 1px rgba(60, 64, 67, 0.15);\n",
              "      fill: #174EA6;\n",
              "    }\n",
              "\n",
              "    [theme=dark] .colab-df-convert {\n",
              "      background-color: #3B4455;\n",
              "      fill: #D2E3FC;\n",
              "    }\n",
              "\n",
              "    [theme=dark] .colab-df-convert:hover {\n",
              "      background-color: #434B5C;\n",
              "      box-shadow: 0px 1px 3px 1px rgba(0, 0, 0, 0.15);\n",
              "      filter: drop-shadow(0px 1px 2px rgba(0, 0, 0, 0.3));\n",
              "      fill: #FFFFFF;\n",
              "    }\n",
              "  </style>\n",
              "\n",
              "      <script>\n",
              "        const buttonEl =\n",
              "          document.querySelector('#df-b5fffad5-f4a3-4e67-8666-b3376b224c71 button.colab-df-convert');\n",
              "        buttonEl.style.display =\n",
              "          google.colab.kernel.accessAllowed ? 'block' : 'none';\n",
              "\n",
              "        async function convertToInteractive(key) {\n",
              "          const element = document.querySelector('#df-b5fffad5-f4a3-4e67-8666-b3376b224c71');\n",
              "          const dataTable =\n",
              "            await google.colab.kernel.invokeFunction('convertToInteractive',\n",
              "                                                     [key], {});\n",
              "          if (!dataTable) return;\n",
              "\n",
              "          const docLinkHtml = 'Like what you see? Visit the ' +\n",
              "            '<a target=\"_blank\" href=https://colab.research.google.com/notebooks/data_table.ipynb>data table notebook</a>'\n",
              "            + ' to learn more about interactive tables.';\n",
              "          element.innerHTML = '';\n",
              "          dataTable['output_type'] = 'display_data';\n",
              "          await google.colab.output.renderOutput(dataTable, element);\n",
              "          const docLink = document.createElement('div');\n",
              "          docLink.innerHTML = docLinkHtml;\n",
              "          element.appendChild(docLink);\n",
              "        }\n",
              "      </script>\n",
              "    </div>\n",
              "  </div>\n",
              "  "
            ],
            "text/plain": [
              "              A         B         C  ...         I         J  target\n",
              "0      0.266074 -0.165620  0.320980  ...  0.251173  0.159345       0\n",
              "1      0.130292  0.870736 -3.210528  ...  0.282354  0.515587       0\n",
              "2     -0.116585  0.069915  0.068476  ... -0.123005  0.582939       0\n",
              "3      0.031541  0.297600 -3.210528  ...  0.594169 -0.533994       0\n",
              "4      0.229043  0.807926 -0.052442  ...  0.032902 -0.086652       5\n",
              "...         ...       ...       ...  ...       ...       ...     ...\n",
              "10425  0.080916  0.588093  0.015130  ...  0.282354 -0.580141       5\n",
              "10426  0.253730 -0.338346  0.352988  ...  0.032902 -0.527134       5\n",
              "10427  0.229043 -0.000745  0.171611  ... -0.590727  0.580142       0\n",
              "10428 -0.301743  0.352558  0.288973  ...  0.625350  0.718969       4\n",
              "10429 -0.104241 -1.037102  0.388552  ...  0.999528 -0.551063      10\n",
              "\n",
              "[9687 rows x 11 columns]"
            ]
          },
          "metadata": {},
          "execution_count": 14
        }
      ]
    },
    {
      "cell_type": "code",
      "source": [
        "data = df.copy()"
      ],
      "metadata": {
        "id": "rOduU7poKgoh"
      },
      "execution_count": 15,
      "outputs": []
    },
    {
      "cell_type": "code",
      "source": [
        "input = df.loc[:, df.columns != 'target']\n",
        "output= df['target'] \n",
        "\n",
        "from sklearn.model_selection import train_test_split\n",
        "X_train, X_test, y_train, y_test= train_test_split(input,output,test_size=0.2, random_state=42)\n",
        "\n",
        "from sklearn.ensemble import RandomForestClassifier\n",
        "\n",
        "forest = RandomForestClassifier(n_estimators=200, random_state=42)\n",
        "forest.fit(X_train,y_train)"
      ],
      "metadata": {
        "colab": {
          "base_uri": "https://localhost:8080/"
        },
        "id": "eOyibKJ4Ks1n",
        "outputId": "a3da4084-6ada-49da-9df3-75add14d2007"
      },
      "execution_count": 16,
      "outputs": [
        {
          "output_type": "execute_result",
          "data": {
            "text/plain": [
              "RandomForestClassifier(n_estimators=200, random_state=42)"
            ]
          },
          "metadata": {},
          "execution_count": 16
        }
      ]
    },
    {
      "cell_type": "code",
      "source": [
        "y_pred_test = forest.predict(X_test)\n",
        "y_pred_train = forest.predict(X_train)"
      ],
      "metadata": {
        "id": "11pmM3FzKw-u"
      },
      "execution_count": 17,
      "outputs": []
    },
    {
      "cell_type": "code",
      "source": [
        "from sklearn.metrics import classification_report\n",
        "print(classification_report(y_test, y_pred_test, target_names=val.keys()))\n",
        "print(classification_report(y_train, y_pred_train, target_names=val.keys()))"
      ],
      "metadata": {
        "colab": {
          "base_uri": "https://localhost:8080/"
        },
        "id": "rvdV6hScKxF4",
        "outputId": "1bdae75c-e453-4fce-c4e1-553a670916cd"
      },
      "execution_count": 18,
      "outputs": [
        {
          "output_type": "stream",
          "name": "stdout",
          "text": [
            "              precision    recall  f1-score   support\n",
            "\n",
            "           A       0.98      1.00      0.99       830\n",
            "           F       1.00      1.00      1.00         2\n",
            "           E       1.00      1.00      1.00        27\n",
            "           I       1.00      1.00      1.00        62\n",
            "           X       0.99      0.99      0.99       220\n",
            "           H       1.00      0.98      0.99       417\n",
            "           G       0.99      0.94      0.96        81\n",
            "           D       0.96      0.95      0.95       115\n",
            "           Y       1.00      1.00      1.00       173\n",
            "           C       1.00      1.00      1.00         5\n",
            "           W       1.00      0.99      1.00       102\n",
            "           B       1.00      1.00      1.00        52\n",
            "\n",
            "    accuracy                           0.99      2086\n",
            "   macro avg       0.99      0.99      0.99      2086\n",
            "weighted avg       0.99      0.99      0.99      2086\n",
            "\n",
            "              precision    recall  f1-score   support\n",
            "\n",
            "           A       1.00      1.00      1.00      3456\n",
            "           F       1.00      1.00      1.00         3\n",
            "           E       1.00      1.00      1.00        76\n",
            "           I       1.00      1.00      1.00       290\n",
            "           X       1.00      1.00      1.00       875\n",
            "           H       1.00      1.00      1.00      1544\n",
            "           G       1.00      1.00      1.00       365\n",
            "           D       1.00      1.00      1.00       404\n",
            "           Y       1.00      1.00      1.00       658\n",
            "           C       1.00      1.00      1.00        39\n",
            "           W       1.00      1.00      1.00       420\n",
            "           B       1.00      1.00      1.00       214\n",
            "\n",
            "    accuracy                           1.00      8344\n",
            "   macro avg       1.00      1.00      1.00      8344\n",
            "weighted avg       1.00      1.00      1.00      8344\n",
            "\n"
          ]
        }
      ]
    },
    {
      "cell_type": "code",
      "source": [
        "y_prob_test = list(forest.predict_proba(X_test))\n",
        "y_prob_train = list(forest.predict_proba(X_train))"
      ],
      "metadata": {
        "id": "ZzrBd9m8KxIy"
      },
      "execution_count": 19,
      "outputs": []
    },
    {
      "cell_type": "code",
      "source": [
        "y_prob_train.extend(y_prob_test)\n",
        "prob_class = list(val.keys())"
      ],
      "metadata": {
        "id": "IbyM-acXKxL0"
      },
      "execution_count": 20,
      "outputs": []
    },
    {
      "cell_type": "code",
      "source": [
        "new_class = []\n",
        "for prob in y_prob_train:\n",
        "    str1 = str(round(prob[0],1))+'-'+prob_class[0]+\"-\"+str(round(prob[1],1))+\"-\"+prob_class[1]\n",
        "    new_class.append(str1)"
      ],
      "metadata": {
        "id": "otYYuw7XK6a8"
      },
      "execution_count": 21,
      "outputs": []
    },
    {
      "cell_type": "code",
      "source": [
        "data['new_class'] = new_class\n",
        "\n",
        "data.head()"
      ],
      "metadata": {
        "colab": {
          "base_uri": "https://localhost:8080/",
          "height": 206
        },
        "id": "on70mhJHK6dE",
        "outputId": "1d7d29f7-2517-415b-f725-e198001c0117"
      },
      "execution_count": 22,
      "outputs": [
        {
          "output_type": "execute_result",
          "data": {
            "text/html": [
              "\n",
              "  <div id=\"df-c40843ed-d0d6-4776-80e5-366eda586f57\">\n",
              "    <div class=\"colab-df-container\">\n",
              "      <div>\n",
              "<style scoped>\n",
              "    .dataframe tbody tr th:only-of-type {\n",
              "        vertical-align: middle;\n",
              "    }\n",
              "\n",
              "    .dataframe tbody tr th {\n",
              "        vertical-align: top;\n",
              "    }\n",
              "\n",
              "    .dataframe thead th {\n",
              "        text-align: right;\n",
              "    }\n",
              "</style>\n",
              "<table border=\"1\" class=\"dataframe\">\n",
              "  <thead>\n",
              "    <tr style=\"text-align: right;\">\n",
              "      <th></th>\n",
              "      <th>A</th>\n",
              "      <th>B</th>\n",
              "      <th>C</th>\n",
              "      <th>D</th>\n",
              "      <th>E</th>\n",
              "      <th>F</th>\n",
              "      <th>G</th>\n",
              "      <th>H</th>\n",
              "      <th>I</th>\n",
              "      <th>J</th>\n",
              "      <th>target</th>\n",
              "      <th>new_class</th>\n",
              "    </tr>\n",
              "  </thead>\n",
              "  <tbody>\n",
              "    <tr>\n",
              "      <th>0</th>\n",
              "      <td>0.266074</td>\n",
              "      <td>-0.165620</td>\n",
              "      <td>0.320980</td>\n",
              "      <td>0.483299</td>\n",
              "      <td>0.172340</td>\n",
              "      <td>0.273364</td>\n",
              "      <td>0.371178</td>\n",
              "      <td>0.929823</td>\n",
              "      <td>0.251173</td>\n",
              "      <td>0.159345</td>\n",
              "      <td>0</td>\n",
              "      <td>1.0-A-0.0-F</td>\n",
              "    </tr>\n",
              "    <tr>\n",
              "      <th>1</th>\n",
              "      <td>0.130292</td>\n",
              "      <td>0.870736</td>\n",
              "      <td>-3.210528</td>\n",
              "      <td>0.062493</td>\n",
              "      <td>0.261718</td>\n",
              "      <td>1.436060</td>\n",
              "      <td>1.465940</td>\n",
              "      <td>0.636203</td>\n",
              "      <td>0.282354</td>\n",
              "      <td>0.515587</td>\n",
              "      <td>0</td>\n",
              "      <td>0.0-A-0.0-F</td>\n",
              "    </tr>\n",
              "    <tr>\n",
              "      <th>2</th>\n",
              "      <td>-0.116585</td>\n",
              "      <td>0.069915</td>\n",
              "      <td>0.068476</td>\n",
              "      <td>-0.783147</td>\n",
              "      <td>0.261718</td>\n",
              "      <td>0.439463</td>\n",
              "      <td>-0.081827</td>\n",
              "      <td>-0.888236</td>\n",
              "      <td>-0.123005</td>\n",
              "      <td>0.582939</td>\n",
              "      <td>0</td>\n",
              "      <td>1.0-A-0.0-F</td>\n",
              "    </tr>\n",
              "    <tr>\n",
              "      <th>3</th>\n",
              "      <td>0.031541</td>\n",
              "      <td>0.297600</td>\n",
              "      <td>-3.210528</td>\n",
              "      <td>-0.583590</td>\n",
              "      <td>-0.721442</td>\n",
              "      <td>-0.307984</td>\n",
              "      <td>0.710932</td>\n",
              "      <td>1.051693</td>\n",
              "      <td>0.594169</td>\n",
              "      <td>-0.533994</td>\n",
              "      <td>0</td>\n",
              "      <td>0.1-A-0.0-F</td>\n",
              "    </tr>\n",
              "    <tr>\n",
              "      <th>4</th>\n",
              "      <td>0.229043</td>\n",
              "      <td>0.807926</td>\n",
              "      <td>-0.052442</td>\n",
              "      <td>0.082634</td>\n",
              "      <td>0.261718</td>\n",
              "      <td>0.148790</td>\n",
              "      <td>0.635431</td>\n",
              "      <td>0.051062</td>\n",
              "      <td>0.032902</td>\n",
              "      <td>-0.086652</td>\n",
              "      <td>5</td>\n",
              "      <td>1.0-A-0.0-F</td>\n",
              "    </tr>\n",
              "  </tbody>\n",
              "</table>\n",
              "</div>\n",
              "      <button class=\"colab-df-convert\" onclick=\"convertToInteractive('df-c40843ed-d0d6-4776-80e5-366eda586f57')\"\n",
              "              title=\"Convert this dataframe to an interactive table.\"\n",
              "              style=\"display:none;\">\n",
              "        \n",
              "  <svg xmlns=\"http://www.w3.org/2000/svg\" height=\"24px\"viewBox=\"0 0 24 24\"\n",
              "       width=\"24px\">\n",
              "    <path d=\"M0 0h24v24H0V0z\" fill=\"none\"/>\n",
              "    <path d=\"M18.56 5.44l.94 2.06.94-2.06 2.06-.94-2.06-.94-.94-2.06-.94 2.06-2.06.94zm-11 1L8.5 8.5l.94-2.06 2.06-.94-2.06-.94L8.5 2.5l-.94 2.06-2.06.94zm10 10l.94 2.06.94-2.06 2.06-.94-2.06-.94-.94-2.06-.94 2.06-2.06.94z\"/><path d=\"M17.41 7.96l-1.37-1.37c-.4-.4-.92-.59-1.43-.59-.52 0-1.04.2-1.43.59L10.3 9.45l-7.72 7.72c-.78.78-.78 2.05 0 2.83L4 21.41c.39.39.9.59 1.41.59.51 0 1.02-.2 1.41-.59l7.78-7.78 2.81-2.81c.8-.78.8-2.07 0-2.86zM5.41 20L4 18.59l7.72-7.72 1.47 1.35L5.41 20z\"/>\n",
              "  </svg>\n",
              "      </button>\n",
              "      \n",
              "  <style>\n",
              "    .colab-df-container {\n",
              "      display:flex;\n",
              "      flex-wrap:wrap;\n",
              "      gap: 12px;\n",
              "    }\n",
              "\n",
              "    .colab-df-convert {\n",
              "      background-color: #E8F0FE;\n",
              "      border: none;\n",
              "      border-radius: 50%;\n",
              "      cursor: pointer;\n",
              "      display: none;\n",
              "      fill: #1967D2;\n",
              "      height: 32px;\n",
              "      padding: 0 0 0 0;\n",
              "      width: 32px;\n",
              "    }\n",
              "\n",
              "    .colab-df-convert:hover {\n",
              "      background-color: #E2EBFA;\n",
              "      box-shadow: 0px 1px 2px rgba(60, 64, 67, 0.3), 0px 1px 3px 1px rgba(60, 64, 67, 0.15);\n",
              "      fill: #174EA6;\n",
              "    }\n",
              "\n",
              "    [theme=dark] .colab-df-convert {\n",
              "      background-color: #3B4455;\n",
              "      fill: #D2E3FC;\n",
              "    }\n",
              "\n",
              "    [theme=dark] .colab-df-convert:hover {\n",
              "      background-color: #434B5C;\n",
              "      box-shadow: 0px 1px 3px 1px rgba(0, 0, 0, 0.15);\n",
              "      filter: drop-shadow(0px 1px 2px rgba(0, 0, 0, 0.3));\n",
              "      fill: #FFFFFF;\n",
              "    }\n",
              "  </style>\n",
              "\n",
              "      <script>\n",
              "        const buttonEl =\n",
              "          document.querySelector('#df-c40843ed-d0d6-4776-80e5-366eda586f57 button.colab-df-convert');\n",
              "        buttonEl.style.display =\n",
              "          google.colab.kernel.accessAllowed ? 'block' : 'none';\n",
              "\n",
              "        async function convertToInteractive(key) {\n",
              "          const element = document.querySelector('#df-c40843ed-d0d6-4776-80e5-366eda586f57');\n",
              "          const dataTable =\n",
              "            await google.colab.kernel.invokeFunction('convertToInteractive',\n",
              "                                                     [key], {});\n",
              "          if (!dataTable) return;\n",
              "\n",
              "          const docLinkHtml = 'Like what you see? Visit the ' +\n",
              "            '<a target=\"_blank\" href=https://colab.research.google.com/notebooks/data_table.ipynb>data table notebook</a>'\n",
              "            + ' to learn more about interactive tables.';\n",
              "          element.innerHTML = '';\n",
              "          dataTable['output_type'] = 'display_data';\n",
              "          await google.colab.output.renderOutput(dataTable, element);\n",
              "          const docLink = document.createElement('div');\n",
              "          docLink.innerHTML = docLinkHtml;\n",
              "          element.appendChild(docLink);\n",
              "        }\n",
              "      </script>\n",
              "    </div>\n",
              "  </div>\n",
              "  "
            ],
            "text/plain": [
              "          A         B         C  ...         J  target    new_class\n",
              "0  0.266074 -0.165620  0.320980  ...  0.159345       0  1.0-A-0.0-F\n",
              "1  0.130292  0.870736 -3.210528  ...  0.515587       0  0.0-A-0.0-F\n",
              "2 -0.116585  0.069915  0.068476  ...  0.582939       0  1.0-A-0.0-F\n",
              "3  0.031541  0.297600 -3.210528  ... -0.533994       0  0.1-A-0.0-F\n",
              "4  0.229043  0.807926 -0.052442  ... -0.086652       5  1.0-A-0.0-F\n",
              "\n",
              "[5 rows x 12 columns]"
            ]
          },
          "metadata": {},
          "execution_count": 22
        }
      ]
    },
    {
      "cell_type": "code",
      "source": [
        "def evaluate(model):\n",
        "    print(\"Train Accuracy :\", accuracy_score(y_train, model.predict(x_train)))\n",
        "    print(\"Train Confusion Matrix:\")\n",
        "    print(confusion_matrix(y_train, model.predict(x_train)))\n",
        "    print(\"Train classification report\")\n",
        "    print(classification_report(y_train, model.predict(x_train)))\n",
        "    print(\"-\"*50)\n",
        "    print(\"Test Accuracy :\", accuracy_score(y_test, model.predict(x_test)))\n",
        "    print(\"Test Confusion Matrix:\")\n",
        "    print(confusion_matrix(y_test, model.predict(x_test)))\n",
        "    print(\"Test classification report\")\n",
        "    print(classification_report(y_test, model.predict(x_test)))\n"
      ],
      "metadata": {
        "id": "Gzda9hoiK6fn"
      },
      "execution_count": 23,
      "outputs": []
    },
    {
      "cell_type": "code",
      "source": [
        "data.drop('target',axis=1,inplace=True)\n",
        "\n",
        "for col_name in data.columns:\n",
        "    if(data[col_name].dtype == 'object'):\n",
        "        data[col_name]= data[col_name].astype('category')\n",
        "        data[col_name] = data[col_name].cat.codes\n",
        "\n",
        "data.head()"
      ],
      "metadata": {
        "colab": {
          "base_uri": "https://localhost:8080/",
          "height": 206
        },
        "id": "tKXP1NvbK6iT",
        "outputId": "53bf0512-d903-4018-acbe-eac7149fd8c7"
      },
      "execution_count": 24,
      "outputs": [
        {
          "output_type": "execute_result",
          "data": {
            "text/html": [
              "\n",
              "  <div id=\"df-1941bdd8-9452-4c5b-afde-00f43730b620\">\n",
              "    <div class=\"colab-df-container\">\n",
              "      <div>\n",
              "<style scoped>\n",
              "    .dataframe tbody tr th:only-of-type {\n",
              "        vertical-align: middle;\n",
              "    }\n",
              "\n",
              "    .dataframe tbody tr th {\n",
              "        vertical-align: top;\n",
              "    }\n",
              "\n",
              "    .dataframe thead th {\n",
              "        text-align: right;\n",
              "    }\n",
              "</style>\n",
              "<table border=\"1\" class=\"dataframe\">\n",
              "  <thead>\n",
              "    <tr style=\"text-align: right;\">\n",
              "      <th></th>\n",
              "      <th>A</th>\n",
              "      <th>B</th>\n",
              "      <th>C</th>\n",
              "      <th>D</th>\n",
              "      <th>E</th>\n",
              "      <th>F</th>\n",
              "      <th>G</th>\n",
              "      <th>H</th>\n",
              "      <th>I</th>\n",
              "      <th>J</th>\n",
              "      <th>new_class</th>\n",
              "    </tr>\n",
              "  </thead>\n",
              "  <tbody>\n",
              "    <tr>\n",
              "      <th>0</th>\n",
              "      <td>0.266074</td>\n",
              "      <td>-0.165620</td>\n",
              "      <td>0.320980</td>\n",
              "      <td>0.483299</td>\n",
              "      <td>0.172340</td>\n",
              "      <td>0.273364</td>\n",
              "      <td>0.371178</td>\n",
              "      <td>0.929823</td>\n",
              "      <td>0.251173</td>\n",
              "      <td>0.159345</td>\n",
              "      <td>14</td>\n",
              "    </tr>\n",
              "    <tr>\n",
              "      <th>1</th>\n",
              "      <td>0.130292</td>\n",
              "      <td>0.870736</td>\n",
              "      <td>-3.210528</td>\n",
              "      <td>0.062493</td>\n",
              "      <td>0.261718</td>\n",
              "      <td>1.436060</td>\n",
              "      <td>1.465940</td>\n",
              "      <td>0.636203</td>\n",
              "      <td>0.282354</td>\n",
              "      <td>0.515587</td>\n",
              "      <td>0</td>\n",
              "    </tr>\n",
              "    <tr>\n",
              "      <th>2</th>\n",
              "      <td>-0.116585</td>\n",
              "      <td>0.069915</td>\n",
              "      <td>0.068476</td>\n",
              "      <td>-0.783147</td>\n",
              "      <td>0.261718</td>\n",
              "      <td>0.439463</td>\n",
              "      <td>-0.081827</td>\n",
              "      <td>-0.888236</td>\n",
              "      <td>-0.123005</td>\n",
              "      <td>0.582939</td>\n",
              "      <td>14</td>\n",
              "    </tr>\n",
              "    <tr>\n",
              "      <th>3</th>\n",
              "      <td>0.031541</td>\n",
              "      <td>0.297600</td>\n",
              "      <td>-3.210528</td>\n",
              "      <td>-0.583590</td>\n",
              "      <td>-0.721442</td>\n",
              "      <td>-0.307984</td>\n",
              "      <td>0.710932</td>\n",
              "      <td>1.051693</td>\n",
              "      <td>0.594169</td>\n",
              "      <td>-0.533994</td>\n",
              "      <td>4</td>\n",
              "    </tr>\n",
              "    <tr>\n",
              "      <th>4</th>\n",
              "      <td>0.229043</td>\n",
              "      <td>0.807926</td>\n",
              "      <td>-0.052442</td>\n",
              "      <td>0.082634</td>\n",
              "      <td>0.261718</td>\n",
              "      <td>0.148790</td>\n",
              "      <td>0.635431</td>\n",
              "      <td>0.051062</td>\n",
              "      <td>0.032902</td>\n",
              "      <td>-0.086652</td>\n",
              "      <td>14</td>\n",
              "    </tr>\n",
              "  </tbody>\n",
              "</table>\n",
              "</div>\n",
              "      <button class=\"colab-df-convert\" onclick=\"convertToInteractive('df-1941bdd8-9452-4c5b-afde-00f43730b620')\"\n",
              "              title=\"Convert this dataframe to an interactive table.\"\n",
              "              style=\"display:none;\">\n",
              "        \n",
              "  <svg xmlns=\"http://www.w3.org/2000/svg\" height=\"24px\"viewBox=\"0 0 24 24\"\n",
              "       width=\"24px\">\n",
              "    <path d=\"M0 0h24v24H0V0z\" fill=\"none\"/>\n",
              "    <path d=\"M18.56 5.44l.94 2.06.94-2.06 2.06-.94-2.06-.94-.94-2.06-.94 2.06-2.06.94zm-11 1L8.5 8.5l.94-2.06 2.06-.94-2.06-.94L8.5 2.5l-.94 2.06-2.06.94zm10 10l.94 2.06.94-2.06 2.06-.94-2.06-.94-.94-2.06-.94 2.06-2.06.94z\"/><path d=\"M17.41 7.96l-1.37-1.37c-.4-.4-.92-.59-1.43-.59-.52 0-1.04.2-1.43.59L10.3 9.45l-7.72 7.72c-.78.78-.78 2.05 0 2.83L4 21.41c.39.39.9.59 1.41.59.51 0 1.02-.2 1.41-.59l7.78-7.78 2.81-2.81c.8-.78.8-2.07 0-2.86zM5.41 20L4 18.59l7.72-7.72 1.47 1.35L5.41 20z\"/>\n",
              "  </svg>\n",
              "      </button>\n",
              "      \n",
              "  <style>\n",
              "    .colab-df-container {\n",
              "      display:flex;\n",
              "      flex-wrap:wrap;\n",
              "      gap: 12px;\n",
              "    }\n",
              "\n",
              "    .colab-df-convert {\n",
              "      background-color: #E8F0FE;\n",
              "      border: none;\n",
              "      border-radius: 50%;\n",
              "      cursor: pointer;\n",
              "      display: none;\n",
              "      fill: #1967D2;\n",
              "      height: 32px;\n",
              "      padding: 0 0 0 0;\n",
              "      width: 32px;\n",
              "    }\n",
              "\n",
              "    .colab-df-convert:hover {\n",
              "      background-color: #E2EBFA;\n",
              "      box-shadow: 0px 1px 2px rgba(60, 64, 67, 0.3), 0px 1px 3px 1px rgba(60, 64, 67, 0.15);\n",
              "      fill: #174EA6;\n",
              "    }\n",
              "\n",
              "    [theme=dark] .colab-df-convert {\n",
              "      background-color: #3B4455;\n",
              "      fill: #D2E3FC;\n",
              "    }\n",
              "\n",
              "    [theme=dark] .colab-df-convert:hover {\n",
              "      background-color: #434B5C;\n",
              "      box-shadow: 0px 1px 3px 1px rgba(0, 0, 0, 0.15);\n",
              "      filter: drop-shadow(0px 1px 2px rgba(0, 0, 0, 0.3));\n",
              "      fill: #FFFFFF;\n",
              "    }\n",
              "  </style>\n",
              "\n",
              "      <script>\n",
              "        const buttonEl =\n",
              "          document.querySelector('#df-1941bdd8-9452-4c5b-afde-00f43730b620 button.colab-df-convert');\n",
              "        buttonEl.style.display =\n",
              "          google.colab.kernel.accessAllowed ? 'block' : 'none';\n",
              "\n",
              "        async function convertToInteractive(key) {\n",
              "          const element = document.querySelector('#df-1941bdd8-9452-4c5b-afde-00f43730b620');\n",
              "          const dataTable =\n",
              "            await google.colab.kernel.invokeFunction('convertToInteractive',\n",
              "                                                     [key], {});\n",
              "          if (!dataTable) return;\n",
              "\n",
              "          const docLinkHtml = 'Like what you see? Visit the ' +\n",
              "            '<a target=\"_blank\" href=https://colab.research.google.com/notebooks/data_table.ipynb>data table notebook</a>'\n",
              "            + ' to learn more about interactive tables.';\n",
              "          element.innerHTML = '';\n",
              "          dataTable['output_type'] = 'display_data';\n",
              "          await google.colab.output.renderOutput(dataTable, element);\n",
              "          const docLink = document.createElement('div');\n",
              "          docLink.innerHTML = docLinkHtml;\n",
              "          element.appendChild(docLink);\n",
              "        }\n",
              "      </script>\n",
              "    </div>\n",
              "  </div>\n",
              "  "
            ],
            "text/plain": [
              "          A         B         C  ...         I         J  new_class\n",
              "0  0.266074 -0.165620  0.320980  ...  0.251173  0.159345         14\n",
              "1  0.130292  0.870736 -3.210528  ...  0.282354  0.515587          0\n",
              "2 -0.116585  0.069915  0.068476  ... -0.123005  0.582939         14\n",
              "3  0.031541  0.297600 -3.210528  ...  0.594169 -0.533994          4\n",
              "4  0.229043  0.807926 -0.052442  ...  0.032902 -0.086652         14\n",
              "\n",
              "[5 rows x 11 columns]"
            ]
          },
          "metadata": {},
          "execution_count": 24
        }
      ]
    },
    {
      "cell_type": "code",
      "source": [
        "x = data.loc[:, data.columns != 'new_class']\n",
        "y= data['new_class']\n",
        "\n",
        "from sklearn.preprocessing import MinMaxScaler\n",
        "scaler = MinMaxScaler()\n",
        "scaled = scaler.fit_transform(x)\n",
        "\n",
        "from sklearn.model_selection import train_test_split as tts\n",
        "x_train,x_test,y_train,y_test=tts(scaled,y,test_size=0.80,random_state=0)\n",
        "\n",
        "from sklearn.tree import DecisionTreeClassifier\n",
        "dtree = DecisionTreeClassifier(max_depth = 2)\n",
        "dtree.fit(x_train, y_train)"
      ],
      "metadata": {
        "colab": {
          "base_uri": "https://localhost:8080/"
        },
        "id": "Gj7TRNOMK6ki",
        "outputId": "af905579-1fb2-4984-82aa-7582e7c9d12e"
      },
      "execution_count": 25,
      "outputs": [
        {
          "output_type": "execute_result",
          "data": {
            "text/plain": [
              "DecisionTreeClassifier(max_depth=2)"
            ]
          },
          "metadata": {},
          "execution_count": 25
        }
      ]
    },
    {
      "cell_type": "code",
      "source": [
        "from sklearn.metrics import confusion_matrix\n",
        "test_pred = dtree.predict(x_test)\n",
        "cm = confusion_matrix(y_test, test_pred)\n",
        "\n",
        "cm"
      ],
      "metadata": {
        "colab": {
          "base_uri": "https://localhost:8080/"
        },
        "id": "kKm_gPBhLD8K",
        "outputId": "a46c422b-ed44-42f9-e281-f7d591b855f7"
      },
      "execution_count": 26,
      "outputs": [
        {
          "output_type": "execute_result",
          "data": {
            "text/plain": [
              "array([[3557,    0,    0,    0,    3,    0,    0,    0,    0,    0,    0,\n",
              "           0,    0,    0,    0],\n",
              "       [   1,    0,    0,    0,    0,    0,    0,    0,    0,    0,    0,\n",
              "           0,    0,    0,    0],\n",
              "       [   2,    0,    0,    0,    0,    0,    0,    0,    0,    0,    0,\n",
              "           0,    0,    0,    0],\n",
              "       [   1,    0,    0,    0,    0,    0,    0,    0,    0,    0,    0,\n",
              "           0,    0,    0,    0],\n",
              "       [1004,    0,    0,    0,    3,    0,    0,    0,    0,    0,    0,\n",
              "           0,    0,    0,    0],\n",
              "       [   1,    0,    0,    0,    0,    0,    0,    0,    0,    0,    0,\n",
              "           0,    0,    0,    0],\n",
              "       [ 191,    0,    0,    0,    0,    0,    0,    0,    0,    0,    0,\n",
              "           0,    0,    0,    0],\n",
              "       [  55,    0,    0,    0,    0,    0,    0,    0,    0,    0,    0,\n",
              "           0,    0,    0,    0],\n",
              "       [  25,    0,    0,    0,    0,    0,    0,    0,    0,    0,    0,\n",
              "           0,    0,    0,    0],\n",
              "       [  19,    0,    0,    0,    0,    0,    0,    0,    0,    0,    0,\n",
              "           0,    0,    0,    0],\n",
              "       [  25,    0,    0,    0,    0,    0,    0,    0,    0,    0,    0,\n",
              "           0,    0,    0,    0],\n",
              "       [  59,    0,    0,    0,    0,    0,    0,    0,    0,    0,    0,\n",
              "           0,    0,    0,    0],\n",
              "       [ 217,    0,    0,    0,    0,    0,    0,    0,    0,    0,    0,\n",
              "           0,    0,    0,    0],\n",
              "       [1048,    0,    0,    0,    0,    0,    0,    0,    0,    0,    0,\n",
              "           0,    0,    0,    0],\n",
              "       [2129,    0,    0,    0,    4,    0,    0,    0,    0,    0,    0,\n",
              "           0,    0,    0,    0]])"
            ]
          },
          "metadata": {},
          "execution_count": 26
        }
      ]
    },
    {
      "cell_type": "code",
      "source": [
        "print(classification_report(y_test, test_pred))\n"
      ],
      "metadata": {
        "colab": {
          "base_uri": "https://localhost:8080/"
        },
        "id": "kAbbEGprLF8e",
        "outputId": "5d92ba6a-6794-44be-a156-8f4ac436764c"
      },
      "execution_count": 27,
      "outputs": [
        {
          "output_type": "stream",
          "name": "stdout",
          "text": [
            "              precision    recall  f1-score   support\n",
            "\n",
            "           0       0.43      1.00      0.60      3560\n",
            "           1       0.00      0.00      0.00         1\n",
            "           2       0.00      0.00      0.00         2\n",
            "           3       0.00      0.00      0.00         1\n",
            "           4       0.30      0.00      0.01      1007\n",
            "           5       0.00      0.00      0.00         1\n",
            "           6       0.00      0.00      0.00       191\n",
            "           7       0.00      0.00      0.00        55\n",
            "           8       0.00      0.00      0.00        25\n",
            "           9       0.00      0.00      0.00        19\n",
            "          10       0.00      0.00      0.00        25\n",
            "          11       0.00      0.00      0.00        59\n",
            "          12       0.00      0.00      0.00       217\n",
            "          13       0.00      0.00      0.00      1048\n",
            "          14       0.00      0.00      0.00      2133\n",
            "\n",
            "    accuracy                           0.43      8344\n",
            "   macro avg       0.05      0.07      0.04      8344\n",
            "weighted avg       0.22      0.43      0.26      8344\n",
            "\n"
          ]
        },
        {
          "output_type": "stream",
          "name": "stderr",
          "text": [
            "/usr/local/lib/python3.7/dist-packages/sklearn/metrics/_classification.py:1308: UndefinedMetricWarning: Precision and F-score are ill-defined and being set to 0.0 in labels with no predicted samples. Use `zero_division` parameter to control this behavior.\n",
            "  _warn_prf(average, modifier, msg_start, len(result))\n",
            "/usr/local/lib/python3.7/dist-packages/sklearn/metrics/_classification.py:1308: UndefinedMetricWarning: Precision and F-score are ill-defined and being set to 0.0 in labels with no predicted samples. Use `zero_division` parameter to control this behavior.\n",
            "  _warn_prf(average, modifier, msg_start, len(result))\n",
            "/usr/local/lib/python3.7/dist-packages/sklearn/metrics/_classification.py:1308: UndefinedMetricWarning: Precision and F-score are ill-defined and being set to 0.0 in labels with no predicted samples. Use `zero_division` parameter to control this behavior.\n",
            "  _warn_prf(average, modifier, msg_start, len(result))\n"
          ]
        }
      ]
    },
    {
      "cell_type": "code",
      "source": [
        "params = {\n",
        "    'max_depth': [2, 3, 5, 10, 20],\n",
        "    'min_samples_leaf': [5, 10, 20, 50, 100],\n",
        "    'criterion': [\"gini\", \"entropy\"]\n",
        "}\n",
        "\n",
        "from sklearn.model_selection import GridSearchCV\n",
        "grid_search = GridSearchCV(estimator=dtree, \n",
        "                           param_grid=params, \n",
        "                           cv=4, n_jobs=-1, verbose=1, scoring = \"accuracy\")\n",
        "\n",
        "grid_search.fit(x_train, y_train)"
      ],
      "metadata": {
        "colab": {
          "base_uri": "https://localhost:8080/"
        },
        "id": "3dcJV8kSLJTH",
        "outputId": "85d49182-4a47-4189-b0cd-e6b791ebe720"
      },
      "execution_count": 28,
      "outputs": [
        {
          "output_type": "stream",
          "name": "stdout",
          "text": [
            "Fitting 4 folds for each of 50 candidates, totalling 200 fits\n"
          ]
        },
        {
          "output_type": "stream",
          "name": "stderr",
          "text": [
            "/usr/local/lib/python3.7/dist-packages/sklearn/model_selection/_split.py:680: UserWarning: The least populated class in y has only 3 members, which is less than n_splits=4.\n",
            "  UserWarning,\n"
          ]
        },
        {
          "output_type": "execute_result",
          "data": {
            "text/plain": [
              "GridSearchCV(cv=4, estimator=DecisionTreeClassifier(max_depth=2), n_jobs=-1,\n",
              "             param_grid={'criterion': ['gini', 'entropy'],\n",
              "                         'max_depth': [2, 3, 5, 10, 20],\n",
              "                         'min_samples_leaf': [5, 10, 20, 50, 100]},\n",
              "             scoring='accuracy', verbose=1)"
            ]
          },
          "metadata": {},
          "execution_count": 28
        }
      ]
    },
    {
      "cell_type": "code",
      "source": [
        "grid_search.best_estimator_"
      ],
      "metadata": {
        "colab": {
          "base_uri": "https://localhost:8080/"
        },
        "id": "RIO1-P87LLIX",
        "outputId": "13a41943-58c8-4087-92b3-10c49ab2d66a"
      },
      "execution_count": 29,
      "outputs": [
        {
          "output_type": "execute_result",
          "data": {
            "text/plain": [
              "DecisionTreeClassifier(criterion='entropy', max_depth=2, min_samples_leaf=5)"
            ]
          },
          "metadata": {},
          "execution_count": 29
        }
      ]
    },
    {
      "cell_type": "code",
      "source": [
        "evaluate(grid_search.best_estimator_)"
      ],
      "metadata": {
        "colab": {
          "base_uri": "https://localhost:8080/"
        },
        "id": "1QtcuLmQLLLK",
        "outputId": "2e3d22e6-a92b-4050-feba-d47e14b3b4ec"
      },
      "execution_count": 30,
      "outputs": [
        {
          "output_type": "stream",
          "name": "stdout",
          "text": [
            "Train Accuracy : 0.44726749760306805\n",
            "Train Confusion Matrix:\n",
            "[[933   0   0   0   0   0   0   0   0   0   0]\n",
            " [283   0   0   0   0   0   0   0   0   0   0]\n",
            " [ 55   0   0   0   0   0   0   0   0   0   0]\n",
            " [ 13   0   0   0   0   0   0   0   0   0   0]\n",
            " [  9   0   0   0   0   0   0   0   0   0   0]\n",
            " [  3   0   0   0   0   0   0   0   0   0   0]\n",
            " [  6   0   0   0   0   0   0   0   0   0   0]\n",
            " [ 11   0   0   0   0   0   0   0   0   0   0]\n",
            " [ 54   0   0   0   0   0   0   0   0   0   0]\n",
            " [229   0   0   0   0   0   0   0   0   0   0]\n",
            " [490   0   0   0   0   0   0   0   0   0   0]]\n",
            "Train classification report\n",
            "              precision    recall  f1-score   support\n",
            "\n",
            "           0       0.45      1.00      0.62       933\n",
            "           4       0.00      0.00      0.00       283\n",
            "           6       0.00      0.00      0.00        55\n",
            "           7       0.00      0.00      0.00        13\n",
            "           8       0.00      0.00      0.00         9\n",
            "           9       0.00      0.00      0.00         3\n",
            "          10       0.00      0.00      0.00         6\n",
            "          11       0.00      0.00      0.00        11\n",
            "          12       0.00      0.00      0.00        54\n",
            "          13       0.00      0.00      0.00       229\n",
            "          14       0.00      0.00      0.00       490\n",
            "\n",
            "    accuracy                           0.45      2086\n",
            "   macro avg       0.04      0.09      0.06      2086\n",
            "weighted avg       0.20      0.45      0.28      2086\n",
            "\n",
            "--------------------------------------------------\n",
            "Test Accuracy : 0.42665388302972196\n",
            "Test Confusion Matrix:\n",
            "[[3560    0    0    0    0    0    0    0    0    0    0    0    0    0\n",
            "     0]\n",
            " [   1    0    0    0    0    0    0    0    0    0    0    0    0    0\n",
            "     0]\n",
            " [   2    0    0    0    0    0    0    0    0    0    0    0    0    0\n",
            "     0]\n",
            " [   1    0    0    0    0    0    0    0    0    0    0    0    0    0\n",
            "     0]\n",
            " [1007    0    0    0    0    0    0    0    0    0    0    0    0    0\n",
            "     0]\n",
            " [   1    0    0    0    0    0    0    0    0    0    0    0    0    0\n",
            "     0]\n",
            " [ 191    0    0    0    0    0    0    0    0    0    0    0    0    0\n",
            "     0]\n",
            " [  55    0    0    0    0    0    0    0    0    0    0    0    0    0\n",
            "     0]\n",
            " [  25    0    0    0    0    0    0    0    0    0    0    0    0    0\n",
            "     0]\n",
            " [  19    0    0    0    0    0    0    0    0    0    0    0    0    0\n",
            "     0]\n",
            " [  25    0    0    0    0    0    0    0    0    0    0    0    0    0\n",
            "     0]\n",
            " [  59    0    0    0    0    0    0    0    0    0    0    0    0    0\n",
            "     0]\n",
            " [ 217    0    0    0    0    0    0    0    0    0    0    0    0    0\n",
            "     0]\n",
            " [1048    0    0    0    0    0    0    0    0    0    0    0    0    0\n",
            "     0]\n",
            " [2133    0    0    0    0    0    0    0    0    0    0    0    0    0\n",
            "     0]]\n",
            "Test classification report\n",
            "              precision    recall  f1-score   support\n",
            "\n",
            "           0       0.43      1.00      0.60      3560\n",
            "           1       0.00      0.00      0.00         1\n",
            "           2       0.00      0.00      0.00         2\n",
            "           3       0.00      0.00      0.00         1\n",
            "           4       0.00      0.00      0.00      1007\n",
            "           5       0.00      0.00      0.00         1\n",
            "           6       0.00      0.00      0.00       191\n",
            "           7       0.00      0.00      0.00        55\n",
            "           8       0.00      0.00      0.00        25\n",
            "           9       0.00      0.00      0.00        19\n",
            "          10       0.00      0.00      0.00        25\n",
            "          11       0.00      0.00      0.00        59\n",
            "          12       0.00      0.00      0.00       217\n",
            "          13       0.00      0.00      0.00      1048\n",
            "          14       0.00      0.00      0.00      2133\n",
            "\n",
            "    accuracy                           0.43      8344\n",
            "   macro avg       0.03      0.07      0.04      8344\n",
            "weighted avg       0.18      0.43      0.26      8344\n",
            "\n"
          ]
        },
        {
          "output_type": "stream",
          "name": "stderr",
          "text": [
            "/usr/local/lib/python3.7/dist-packages/sklearn/metrics/_classification.py:1308: UndefinedMetricWarning: Precision and F-score are ill-defined and being set to 0.0 in labels with no predicted samples. Use `zero_division` parameter to control this behavior.\n",
            "  _warn_prf(average, modifier, msg_start, len(result))\n",
            "/usr/local/lib/python3.7/dist-packages/sklearn/metrics/_classification.py:1308: UndefinedMetricWarning: Precision and F-score are ill-defined and being set to 0.0 in labels with no predicted samples. Use `zero_division` parameter to control this behavior.\n",
            "  _warn_prf(average, modifier, msg_start, len(result))\n",
            "/usr/local/lib/python3.7/dist-packages/sklearn/metrics/_classification.py:1308: UndefinedMetricWarning: Precision and F-score are ill-defined and being set to 0.0 in labels with no predicted samples. Use `zero_division` parameter to control this behavior.\n",
            "  _warn_prf(average, modifier, msg_start, len(result))\n",
            "/usr/local/lib/python3.7/dist-packages/sklearn/metrics/_classification.py:1308: UndefinedMetricWarning: Precision and F-score are ill-defined and being set to 0.0 in labels with no predicted samples. Use `zero_division` parameter to control this behavior.\n",
            "  _warn_prf(average, modifier, msg_start, len(result))\n",
            "/usr/local/lib/python3.7/dist-packages/sklearn/metrics/_classification.py:1308: UndefinedMetricWarning: Precision and F-score are ill-defined and being set to 0.0 in labels with no predicted samples. Use `zero_division` parameter to control this behavior.\n",
            "  _warn_prf(average, modifier, msg_start, len(result))\n",
            "/usr/local/lib/python3.7/dist-packages/sklearn/metrics/_classification.py:1308: UndefinedMetricWarning: Precision and F-score are ill-defined and being set to 0.0 in labels with no predicted samples. Use `zero_division` parameter to control this behavior.\n",
            "  _warn_prf(average, modifier, msg_start, len(result))\n"
          ]
        }
      ]
    },
    {
      "cell_type": "code",
      "source": [
        "import tabulate\n",
        "conclusion = [['Model', 'Precision','Recall', 'F1score', 'Accuracy'],\n",
        "              ['RandomForest', 0.99, 0.99, 0.99, 0.99],\n",
        "              ['DecisionTree', 0.05, 0.07 ,0.04, 0.43],\n",
        "              ['DecisionTree after hyperparamter tunning', 0.03, 0.07 ,0.04, 0.43]\n",
        "]\n",
        "print(tabulate.tabulate(conclusion, tablefmt='fancy_grid'))\n"
      ],
      "metadata": {
        "colab": {
          "base_uri": "https://localhost:8080/"
        },
        "id": "FBOB--h_LLN_",
        "outputId": "d20f8669-fbcb-4f80-a366-8fafdbdc2854"
      },
      "execution_count": 34,
      "outputs": [
        {
          "output_type": "stream",
          "name": "stdout",
          "text": [
            "╒══════════════════════════════════════════╤═══════════╤════════╤═════════╤══════════╕\n",
            "│ Model                                    │ Precision │ Recall │ F1score │ Accuracy │\n",
            "├──────────────────────────────────────────┼───────────┼────────┼─────────┼──────────┤\n",
            "│ RandomForest                             │ 0.99      │ 0.99   │ 0.99    │ 0.99     │\n",
            "├──────────────────────────────────────────┼───────────┼────────┼─────────┼──────────┤\n",
            "│ DecisionTree                             │ 0.05      │ 0.07   │ 0.04    │ 0.43     │\n",
            "├──────────────────────────────────────────┼───────────┼────────┼─────────┼──────────┤\n",
            "│ DecisionTree after hyperparamter tunning │ 0.03      │ 0.07   │ 0.04    │ 0.43     │\n",
            "╘══════════════════════════════════════════╧═══════════╧════════╧═════════╧══════════╛\n"
          ]
        }
      ]
    },
    {
      "cell_type": "code",
      "source": [
        "Rf=[0.99, 0.99, 0.99, 0.99]\n",
        "DT= [ 0.05, 0.07 ,0.04, 0.43]\n",
        "DT_tune=[0.03, 0.07 ,0.04, 0.43]"
      ],
      "metadata": {
        "id": "gRUcoRs0LSAs"
      },
      "execution_count": 35,
      "outputs": []
    },
    {
      "cell_type": "code",
      "source": [
        "import matplotlib.pyplot as plt\n",
        "import numpy as np\n",
        "\n",
        "\n",
        "width = 0.1\n",
        "\n",
        "r1 = np.arange(4)\n",
        "r4 = [i + width for i in r1]\n",
        "r5 = [i + width for i in r4]\n",
        "\n",
        "plt.bar(r1, Rf, color='#375e97', width=width, label='Rf')\n",
        "\n",
        "\n",
        "plt.bar(r4, DT, color='#3f681c', width=width, label='DT')\n",
        "plt.bar(r5, DT_tune, color='#f18d9e', width=width, label='DT_tune')\n",
        "\n",
        "plt.ylim(top=1.1)  # adjust the top leaving bottom unchanged\n",
        "plt.xlabel('Performance Measures', fontsize=16)\n",
        "plt.ylabel('% Values', fontsize=16)\n",
        "plt.tick_params(axis='both', which='major', labelsize=16)\n",
        "plt.tick_params(axis='both', which='minor', labelsize=16)\n",
        "plt.title('Test Results')\n",
        "\n",
        "plt.xticks([r + 2.5*width for r in range(4)], [ 'Prec', 'Recal','f1 score','Acc'])\n",
        "\n",
        "plt.legend(loc=2 , ncol=2, fontsize=12)\n",
        "plt.show()\n",
        "\n",
        "plt.savefig(\"output.jpg\")"
      ],
      "metadata": {
        "colab": {
          "base_uri": "https://localhost:8080/",
          "height": 322
        },
        "id": "xxpbOiRULSDk",
        "outputId": "93f63519-1871-4026-d776-0358d958cfed"
      },
      "execution_count": 36,
      "outputs": [
        {
          "output_type": "display_data",
          "data": {
            "image/png": "[encoded data removed]",
            "text/plain": [
              "<Figure size 432x288 with 1 Axes>"
            ]
          },
          "metadata": {
            "needs_background": "light"
          }
        },
        {
          "output_type": "display_data",
          "data": {
            "text/plain": [
              "<Figure size 432x288 with 0 Axes>"
            ]
          },
          "metadata": {}
        }
      ]
    },
    {
      "cell_type": "code",
      "source": [
        ""
      ],
      "metadata": {
        "id": "n3oZrc8WMYNk"
      },
      "execution_count": null,
      "outputs": []
    }
  ]
}